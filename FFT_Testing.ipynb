{
  "nbformat": 4,
  "nbformat_minor": 0,
  "metadata": {
    "colab": {
      "name": "FFT_Testing.ipynb",
      "provenance": [],
      "authorship_tag": "ABX9TyPdBzwbL/WKB+t55b0NKJjL",
      "include_colab_link": true
    },
    "kernelspec": {
      "name": "python3",
      "display_name": "Python 3"
    },
    "language_info": {
      "name": "python"
    }
  },
  "cells": [
    {
      "cell_type": "markdown",
      "metadata": {
        "id": "view-in-github",
        "colab_type": "text"
      },
      "source": [
        "<a href=\"https://colab.research.google.com/github/joaochenriques/FFT_Testing/blob/main/FFT_Testing.ipynb\" target=\"_parent\"><img src=\"https://colab.research.google.com/assets/colab-badge.svg\" alt=\"Open In Colab\"/></a>"
      ]
    },
    {
      "cell_type": "code",
      "execution_count": 20,
      "metadata": {
        "id": "GVzmtrgSxAuu"
      },
      "outputs": [],
      "source": [
        "import numpy as np\n",
        "import matplotlib.pyplot as mpl"
      ]
    },
    {
      "cell_type": "code",
      "source": [
        "# If running python on Windows operating system, copy the file:\n",
        "# https://raw.githubusercontent.com/joaochenriques/ipynb_libs/main/mpl_utils.py\n",
        "# to the working folder before running the notebook\n",
        "\n",
        "import pathlib\n",
        "if not pathlib.Path(\"mpl_utils.py\").exists():\n",
        "  !curl -O https://raw.githubusercontent.com/joaochenriques/ipynb_libs/main/mpl_utils.py \n",
        "\n",
        "import mpl_utils as mut\n",
        "mut.config_plots()\n",
        "\n",
        "%config InlineBackend.figure_formats = ['svg']\n",
        "mpl.rcParams[\"figure.figsize\"] = (6,4.5)"
      ],
      "metadata": {
        "colab": {
          "base_uri": "https://localhost:8080/"
        },
        "id": "OLSZlNCWzu4f",
        "outputId": "3db5206d-e412-471b-c05e-c4b1c64eee41"
      },
      "execution_count": 21,
      "outputs": [
        {
          "output_type": "stream",
          "name": "stdout",
          "text": [
            "  % Total    % Received % Xferd  Average Speed   Time    Time     Time  Current\n",
            "                                 Dload  Upload   Total   Spent    Left  Speed\n",
            "100  3483  100  3483    0     0   8773      0 --:--:-- --:--:-- --:--:--  8751\n"
          ]
        }
      ]
    },
    {
      "cell_type": "code",
      "source": [
        "f = 2.0\n",
        "ω = 2.0 * np.pi * f \n",
        "t = np.linspace( 0, 100, 1024 )\n",
        "y = np.sin( ω * t  )"
      ],
      "metadata": {
        "id": "-0yjAgT_xHbJ"
      },
      "execution_count": 52,
      "outputs": []
    },
    {
      "cell_type": "code",
      "source": [
        "nFFT = 1024\n",
        "\n",
        "fsample = 1.0 / ( t[1] - t[0] )\n",
        "delta_f = fsample / nFFT\n",
        "\n",
        "fd_time = np.arange( nFFT ) / fsample\n",
        "fd_data = np.copy( y[-nFFT:] )  "
      ],
      "metadata": {
        "id": "bi_qbRrUxXvl"
      },
      "execution_count": 53,
      "outputs": []
    },
    {
      "cell_type": "code",
      "source": [
        "freqs = np.fft.fftfreq( n = nFFT, d = 1.0 / fsample )   # FFT frequencies\n",
        "Amps = np.fft.fft( fd_data )                            # FFT complex amplitudes\n",
        "\n",
        "Spec_Af  = 2.0 * np.abs( Amps ) / nFFT            # abs amplitudes \n",
        "Spec_Var = 0.5 * Spec_Af**2                       # Variance spectrum\n",
        "Spec_Sf  = Spec_Var / delta_f                     # Spectral density\n",
        "\n",
        "Spec_A_mean = np.sqrt( sum( Spec_Sf ) * delta_f ) # mean Amplitude"
      ],
      "metadata": {
        "id": "eXjQ0YF_xYa9"
      },
      "execution_count": 54,
      "outputs": []
    },
    {
      "cell_type": "code",
      "source": [
        "Spec_A_mean"
      ],
      "metadata": {
        "colab": {
          "base_uri": "https://localhost:8080/"
        },
        "id": "KGV3E8yLyH01",
        "outputId": "72b224fe-94c6-4b28-a897-aaba67a44f79"
      },
      "execution_count": 55,
      "outputs": [
        {
          "output_type": "execute_result",
          "data": {
            "text/plain": [
              "0.999511599482467"
            ]
          },
          "metadata": {},
          "execution_count": 55
        }
      ]
    },
    {
      "cell_type": "code",
      "source": [
        "mpl.plot( freqs, Spec_Af );"
      ],
      "metadata": {
        "colab": {
          "base_uri": "https://localhost:8080/",
          "height": 421
        },
        "id": "WCHj0v8_yXEd",
        "outputId": "09dbfed4-8dcf-4a87-eb9d-9877b76a813d"
      },
      "execution_count": 57,
      "outputs": [
        {
          "output_type": "display_data",
          "data": {
            "text/plain": [
              "<Figure size 1680x1260 with 1 Axes>"
            ],
            "image/svg+xml": "<?xml version=\"1.0\" encoding=\"utf-8\" standalone=\"no\"?>\n<!DOCTYPE svg PUBLIC \"-//W3C//DTD SVG 1.1//EN\"\n  \"http://www.w3.org/Graphics/SVG/1.1/DTD/svg11.dtd\">\n<!-- Created with matplotlib (https://matplotlib.org/) -->\n<svg height=\"300.28pt\" version=\"1.1\" viewBox=\"0 0 394.24 300.28\" width=\"394.24pt\" xmlns=\"http://www.w3.org/2000/svg\" xmlns:xlink=\"http://www.w3.org/1999/xlink\">\n <defs>\n  <style type=\"text/css\">\n*{stroke-linecap:butt;stroke-linejoin:round;}\n  </style>\n </defs>\n <g id=\"figure_1\">\n  <g id=\"patch_1\">\n   <path d=\"M 0 300.28 \nL 394.24 300.28 \nL 394.24 0 \nL 0 0 \nz\n\" style=\"fill:#ffffff;\"/>\n  </g>\n  <g id=\"axes_1\">\n   <g id=\"patch_2\">\n    <path d=\"M 29.2 276.12 \nL 383.44 276.12 \nL 383.44 13.68 \nL 29.2 13.68 \nz\n\" style=\"fill:#ffffff;\"/>\n   </g>\n   <g id=\"line2d_1\">\n    <path clip-path=\"url(#p822e81bd5b)\" d=\"M 206.32 276.12 \nL 238.465377 275.766907 \nL 248.197464 275.458624 \nL 253.505875 275.084558 \nL 256.454992 274.686232 \nL 258.519374 274.20404 \nL 259.993933 273.633024 \nL 260.878668 273.110279 \nL 261.763403 272.33056 \nL 262.353227 271.555954 \nL 262.94305 270.403407 \nL 263.532873 268.506895 \nL 263.827785 267.011161 \nL 264.122697 264.802462 \nL 264.417609 261.211452 \nL 264.71252 254.349295 \nL 265.007432 236.007365 \nL 265.302344 30.028508 \nL 265.597255 216.121644 \nL 265.892167 249.284245 \nL 266.187079 258.797318 \nL 266.481991 263.309474 \nL 267.071814 267.669743 \nL 267.661637 269.795347 \nL 268.251461 271.053816 \nL 268.841284 271.885895 \nL 269.72602 272.712544 \nL 270.905666 273.404532 \nL 272.380225 273.942569 \nL 274.444607 274.402478 \nL 277.393724 274.785829 \nL 281.8174 275.103183 \nL 288.895281 275.362272 \nL 301.576485 275.570759 \nL 326.054158 275.715691 \nL 357.019888 275.758538 \nL 55.3252 275.758542 \nL 101.62634 275.648 \nL 121.680337 275.410655 \nL 130.8226 275.103183 \nL 135.836099 274.724964 \nL 138.785216 274.293876 \nL 140.554687 273.853829 \nL 142.029245 273.260676 \nL 142.91398 272.712544 \nL 143.798716 271.885895 \nL 144.388539 271.053816 \nL 144.978362 269.795347 \nL 145.568186 267.669743 \nL 145.863098 265.943361 \nL 146.158009 263.309474 \nL 146.452921 258.797318 \nL 146.747833 249.284245 \nL 147.042745 216.121644 \nL 147.337656 30.028508 \nL 147.632568 236.007365 \nL 147.92748 254.349295 \nL 148.222391 261.211452 \nL 148.517303 264.802462 \nL 149.107127 268.506895 \nL 149.69695 270.403407 \nL 150.286773 271.555954 \nL 151.171509 272.629839 \nL 152.056244 273.306028 \nL 153.235891 273.895313 \nL 154.710449 274.369079 \nL 156.774831 274.785591 \nL 159.723948 275.14169 \nL 164.442536 275.458624 \nL 172.110241 275.720843 \nL 186.266003 275.947128 \nL 206.025088 276.11777 \nL 206.025088 276.11777 \n\" style=\"fill:none;stroke:#1f77b4;stroke-dasharray:6,0;stroke-dashoffset:0;stroke-width:1.5;\"/>\n   </g>\n   <g id=\"patch_3\">\n    <path d=\"M 29.2 276.12 \nL 29.2 13.68 \n\" style=\"fill:none;stroke:#000000;stroke-linecap:square;stroke-linejoin:miter;\"/>\n   </g>\n   <g id=\"patch_4\">\n    <path d=\"M 383.44 276.12 \nL 383.44 13.68 \n\" style=\"fill:none;stroke:#000000;stroke-linecap:square;stroke-linejoin:miter;\"/>\n   </g>\n   <g id=\"patch_5\">\n    <path d=\"M 29.2 276.12 \nL 383.44 276.12 \n\" style=\"fill:none;stroke:#000000;stroke-linecap:square;stroke-linejoin:miter;\"/>\n   </g>\n   <g id=\"patch_6\">\n    <path d=\"M 29.2 13.68 \nL 383.44 13.68 \n\" style=\"fill:none;stroke:#000000;stroke-linecap:square;stroke-linejoin:miter;\"/>\n   </g>\n   <g id=\"matplotlib.axis_1\">\n    <g id=\"xtick_1\">\n     <g id=\"line2d_2\">\n      <defs>\n       <path d=\"M 0 0 \nL 0 -4 \n\" id=\"m9755621eb7\" style=\"stroke:#000000;stroke-width:0.5;\"/>\n      </defs>\n      <g>\n       <use style=\"stroke:#000000;stroke-width:0.5;\" x=\"29.2\" xlink:href=\"#m9755621eb7\" y=\"276.12\"/>\n      </g>\n     </g>\n     <g id=\"line2d_3\">\n      <defs>\n       <path d=\"M 0 0 \nL 0 4 \n\" id=\"mcaec6271fb\" style=\"stroke:#000000;stroke-width:0.5;\"/>\n      </defs>\n      <g>\n       <use style=\"stroke:#000000;stroke-width:0.5;\" x=\"29.2\" xlink:href=\"#mcaec6271fb\" y=\"13.68\"/>\n      </g>\n     </g>\n     <g id=\"text_1\">\n      <!-- −6 -->\n      <defs>\n       <path d=\"M 62.09375 22 \nL 6.40625 22 \nL 6.40625 28.59375 \nL 62.09375 28.59375 \nz\n\" id=\"STIXGeneral-Regular-8722\"/>\n       <path d=\"M 44.59375 68.40625 \nL 44.796875 66.796875 \nQ 33 64.90625 25.09375 57.25 \nQ 17.203125 49.59375 15.203125 38.296875 \nQ 21 42.796875 27.90625 42.796875 \nQ 36.703125 42.796875 41.75 37.1875 \nQ 46.796875 31.59375 46.796875 21.90625 \nQ 46.796875 12.09375 41.703125 5.90625 \nQ 35.796875 -1.40625 25.796875 -1.40625 \nQ 13.59375 -1.40625 8.09375 8.703125 \nQ 3.40625 17.296875 3.40625 27.90625 \nQ 3.40625 44.296875 14.296875 55.5 \nQ 20.5 61.90625 27.046875 64.546875 \nQ 33.59375 67.203125 44.59375 68.40625 \nz\nM 37.796875 18.796875 \nQ 37.796875 38.203125 24.296875 38.203125 \nQ 19.296875 38.203125 16 35.546875 \nQ 12.703125 32.90625 12.703125 26.59375 \nQ 12.703125 14.90625 16.34375 8.15625 \nQ 20 1.40625 26.90625 1.40625 \nQ 32.203125 1.40625 35 6.15625 \nQ 37.796875 10.90625 37.796875 18.796875 \nz\n\" id=\"STIXGeneral-Regular-54\"/>\n      </defs>\n      <g transform=\"translate(20.668 289.95475)scale(0.144 -0.144)\">\n       <use xlink:href=\"#STIXGeneral-Regular-8722\"/>\n       <use x=\"68.499985\" xlink:href=\"#STIXGeneral-Regular-54\"/>\n      </g>\n     </g>\n    </g>\n    <g id=\"xtick_2\">\n     <g id=\"line2d_4\">\n      <g>\n       <use style=\"stroke:#000000;stroke-width:0.5;\" x=\"88.24\" xlink:href=\"#m9755621eb7\" y=\"276.12\"/>\n      </g>\n     </g>\n     <g id=\"line2d_5\">\n      <g>\n       <use style=\"stroke:#000000;stroke-width:0.5;\" x=\"88.24\" xlink:href=\"#mcaec6271fb\" y=\"13.68\"/>\n      </g>\n     </g>\n     <g id=\"text_2\">\n      <!-- −4 -->\n      <defs>\n       <path d=\"M 47.296875 16.703125 \nL 37 16.703125 \nL 37 0 \nL 29.203125 0 \nL 29.203125 16.703125 \nL 1.203125 16.703125 \nL 1.203125 23.09375 \nL 32.59375 67.59375 \nL 37 67.59375 \nL 37 23.09375 \nL 47.296875 23.09375 \nz\nM 29.203125 23.09375 \nL 29.203125 57.40625 \nL 5.203125 23.09375 \nz\n\" id=\"STIXGeneral-Regular-52\"/>\n      </defs>\n      <g transform=\"translate(79.708 289.95475)scale(0.144 -0.144)\">\n       <use xlink:href=\"#STIXGeneral-Regular-8722\"/>\n       <use x=\"68.499985\" xlink:href=\"#STIXGeneral-Regular-52\"/>\n      </g>\n     </g>\n    </g>\n    <g id=\"xtick_3\">\n     <g id=\"line2d_6\">\n      <g>\n       <use style=\"stroke:#000000;stroke-width:0.5;\" x=\"147.28\" xlink:href=\"#m9755621eb7\" y=\"276.12\"/>\n      </g>\n     </g>\n     <g id=\"line2d_7\">\n      <g>\n       <use style=\"stroke:#000000;stroke-width:0.5;\" x=\"147.28\" xlink:href=\"#mcaec6271fb\" y=\"13.68\"/>\n      </g>\n     </g>\n     <g id=\"text_3\">\n      <!-- −2 -->\n      <defs>\n       <path d=\"M 47.40625 13.703125 \nL 42 0 \nL 2.90625 0 \nL 2.90625 1.203125 \nL 20.703125 20.09375 \nQ 27.703125 27.40625 30.703125 33.5 \nQ 33.703125 39.59375 33.703125 46.09375 \nQ 33.703125 52.796875 30 56.5 \nQ 26.296875 60.203125 19.796875 60.203125 \nQ 14.40625 60.203125 11.25 57.390625 \nQ 8.09375 54.59375 5.09375 47.203125 \nL 3 47.703125 \nQ 4.703125 57 9.84375 62.296875 \nQ 15 67.59375 23.796875 67.59375 \nQ 32.09375 67.59375 37.1875 62.59375 \nQ 42.296875 57.59375 42.296875 50 \nQ 42.296875 38.703125 29.5 25.203125 \nL 13 7.59375 \nL 36.40625 7.59375 \nQ 39.703125 7.59375 41.640625 8.890625 \nQ 43.59375 10.203125 46 14.296875 \nz\n\" id=\"STIXGeneral-Regular-50\"/>\n      </defs>\n      <g transform=\"translate(138.748 289.95475)scale(0.144 -0.144)\">\n       <use xlink:href=\"#STIXGeneral-Regular-8722\"/>\n       <use x=\"68.499985\" xlink:href=\"#STIXGeneral-Regular-50\"/>\n      </g>\n     </g>\n    </g>\n    <g id=\"xtick_4\">\n     <g id=\"line2d_8\">\n      <g>\n       <use style=\"stroke:#000000;stroke-width:0.5;\" x=\"206.32\" xlink:href=\"#m9755621eb7\" y=\"276.12\"/>\n      </g>\n     </g>\n     <g id=\"line2d_9\">\n      <g>\n       <use style=\"stroke:#000000;stroke-width:0.5;\" x=\"206.32\" xlink:href=\"#mcaec6271fb\" y=\"13.68\"/>\n      </g>\n     </g>\n     <g id=\"text_4\">\n      <!-- 0 -->\n      <defs>\n       <path d=\"M 47.59375 33 \nQ 47.59375 26.296875 46.296875 20.34375 \nQ 45 14.40625 42.453125 9.40625 \nQ 39.90625 4.40625 35.40625 1.5 \nQ 30.90625 -1.40625 25 -1.40625 \nQ 18.90625 -1.40625 14.296875 1.6875 \nQ 9.703125 4.796875 7.203125 10 \nQ 4.703125 15.203125 3.546875 21.09375 \nQ 2.40625 27 2.40625 33.59375 \nQ 2.40625 42.90625 4.703125 50.34375 \nQ 7 57.796875 12.34375 62.6875 \nQ 17.703125 67.59375 25.40625 67.59375 \nQ 35.203125 67.59375 41.390625 58 \nQ 47.59375 48.40625 47.59375 33 \nz\nM 38 32.5 \nQ 38 48.296875 34.640625 56.640625 \nQ 31.296875 65 24.796875 65 \nQ 18.59375 65 15.296875 56.59375 \nQ 12 48.203125 12 32.90625 \nQ 12 17.5 15.296875 9.34375 \nQ 18.59375 1.203125 25 1.203125 \nQ 31.296875 1.203125 34.640625 9.34375 \nQ 38 17.5 38 32.5 \nz\n\" id=\"STIXGeneral-Regular-48\"/>\n      </defs>\n      <g transform=\"translate(202.72 289.95475)scale(0.144 -0.144)\">\n       <use xlink:href=\"#STIXGeneral-Regular-48\"/>\n      </g>\n     </g>\n    </g>\n    <g id=\"xtick_5\">\n     <g id=\"line2d_10\">\n      <g>\n       <use style=\"stroke:#000000;stroke-width:0.5;\" x=\"265.36\" xlink:href=\"#m9755621eb7\" y=\"276.12\"/>\n      </g>\n     </g>\n     <g id=\"line2d_11\">\n      <g>\n       <use style=\"stroke:#000000;stroke-width:0.5;\" x=\"265.36\" xlink:href=\"#mcaec6271fb\" y=\"13.68\"/>\n      </g>\n     </g>\n     <g id=\"text_5\">\n      <!-- 2 -->\n      <g transform=\"translate(261.76 289.95475)scale(0.144 -0.144)\">\n       <use xlink:href=\"#STIXGeneral-Regular-50\"/>\n      </g>\n     </g>\n    </g>\n    <g id=\"xtick_6\">\n     <g id=\"line2d_12\">\n      <g>\n       <use style=\"stroke:#000000;stroke-width:0.5;\" x=\"324.4\" xlink:href=\"#m9755621eb7\" y=\"276.12\"/>\n      </g>\n     </g>\n     <g id=\"line2d_13\">\n      <g>\n       <use style=\"stroke:#000000;stroke-width:0.5;\" x=\"324.4\" xlink:href=\"#mcaec6271fb\" y=\"13.68\"/>\n      </g>\n     </g>\n     <g id=\"text_6\">\n      <!-- 4 -->\n      <g transform=\"translate(320.8 289.95475)scale(0.144 -0.144)\">\n       <use xlink:href=\"#STIXGeneral-Regular-52\"/>\n      </g>\n     </g>\n    </g>\n    <g id=\"xtick_7\">\n     <g id=\"line2d_14\">\n      <g>\n       <use style=\"stroke:#000000;stroke-width:0.5;\" x=\"383.44\" xlink:href=\"#m9755621eb7\" y=\"276.12\"/>\n      </g>\n     </g>\n     <g id=\"line2d_15\">\n      <g>\n       <use style=\"stroke:#000000;stroke-width:0.5;\" x=\"383.44\" xlink:href=\"#mcaec6271fb\" y=\"13.68\"/>\n      </g>\n     </g>\n     <g id=\"text_7\">\n      <!-- 6 -->\n      <g transform=\"translate(379.84 289.95475)scale(0.144 -0.144)\">\n       <use xlink:href=\"#STIXGeneral-Regular-54\"/>\n      </g>\n     </g>\n    </g>\n   </g>\n   <g id=\"matplotlib.axis_2\">\n    <g id=\"ytick_1\">\n     <g id=\"line2d_16\">\n      <defs>\n       <path d=\"M 0 0 \nL 4 0 \n\" id=\"mc7f84b1da7\" style=\"stroke:#000000;stroke-width:0.5;\"/>\n      </defs>\n      <g>\n       <use style=\"stroke:#000000;stroke-width:0.5;\" x=\"29.2\" xlink:href=\"#mc7f84b1da7\" y=\"276.12\"/>\n      </g>\n     </g>\n     <g id=\"line2d_17\">\n      <defs>\n       <path d=\"M 0 0 \nL -4 0 \n\" id=\"m0e20d6926f\" style=\"stroke:#000000;stroke-width:0.5;\"/>\n      </defs>\n      <g>\n       <use style=\"stroke:#000000;stroke-width:0.5;\" x=\"383.44\" xlink:href=\"#m0e20d6926f\" y=\"276.12\"/>\n      </g>\n     </g>\n     <g id=\"text_8\">\n      <!-- 0.0 -->\n      <defs>\n       <path d=\"M 18.09375 4.296875 \nQ 18.09375 2.09375 16.4375 0.5 \nQ 14.796875 -1.09375 12.5 -1.09375 \nQ 10.203125 -1.09375 8.59375 0.5 \nQ 7 2.09375 7 4.390625 \nQ 7 6.703125 8.640625 8.34375 \nQ 10.296875 10 12.59375 10 \nQ 14.796875 10 16.4375 8.296875 \nQ 18.09375 6.59375 18.09375 4.296875 \nz\n\" id=\"STIXGeneral-Regular-46\"/>\n      </defs>\n      <g transform=\"translate(7.2 279.47475)scale(0.144 -0.144)\">\n       <use xlink:href=\"#STIXGeneral-Regular-48\"/>\n       <use x=\"49.999985\" xlink:href=\"#STIXGeneral-Regular-46\"/>\n       <use x=\"74.999969\" xlink:href=\"#STIXGeneral-Regular-48\"/>\n      </g>\n     </g>\n    </g>\n    <g id=\"ytick_2\">\n     <g id=\"line2d_18\">\n      <g>\n       <use style=\"stroke:#000000;stroke-width:0.5;\" x=\"29.2\" xlink:href=\"#mc7f84b1da7\" y=\"223.632\"/>\n      </g>\n     </g>\n     <g id=\"line2d_19\">\n      <g>\n       <use style=\"stroke:#000000;stroke-width:0.5;\" x=\"383.44\" xlink:href=\"#m0e20d6926f\" y=\"223.632\"/>\n      </g>\n     </g>\n     <g id=\"text_9\">\n      <!-- 0.2 -->\n      <g transform=\"translate(7.2 226.98675)scale(0.144 -0.144)\">\n       <use xlink:href=\"#STIXGeneral-Regular-48\"/>\n       <use x=\"49.999985\" xlink:href=\"#STIXGeneral-Regular-46\"/>\n       <use x=\"74.999969\" xlink:href=\"#STIXGeneral-Regular-50\"/>\n      </g>\n     </g>\n    </g>\n    <g id=\"ytick_3\">\n     <g id=\"line2d_20\">\n      <g>\n       <use style=\"stroke:#000000;stroke-width:0.5;\" x=\"29.2\" xlink:href=\"#mc7f84b1da7\" y=\"171.144\"/>\n      </g>\n     </g>\n     <g id=\"line2d_21\">\n      <g>\n       <use style=\"stroke:#000000;stroke-width:0.5;\" x=\"383.44\" xlink:href=\"#m0e20d6926f\" y=\"171.144\"/>\n      </g>\n     </g>\n     <g id=\"text_10\">\n      <!-- 0.4 -->\n      <g transform=\"translate(7.2 174.49875)scale(0.144 -0.144)\">\n       <use xlink:href=\"#STIXGeneral-Regular-48\"/>\n       <use x=\"49.999985\" xlink:href=\"#STIXGeneral-Regular-46\"/>\n       <use x=\"74.999969\" xlink:href=\"#STIXGeneral-Regular-52\"/>\n      </g>\n     </g>\n    </g>\n    <g id=\"ytick_4\">\n     <g id=\"line2d_22\">\n      <g>\n       <use style=\"stroke:#000000;stroke-width:0.5;\" x=\"29.2\" xlink:href=\"#mc7f84b1da7\" y=\"118.656\"/>\n      </g>\n     </g>\n     <g id=\"line2d_23\">\n      <g>\n       <use style=\"stroke:#000000;stroke-width:0.5;\" x=\"383.44\" xlink:href=\"#m0e20d6926f\" y=\"118.656\"/>\n      </g>\n     </g>\n     <g id=\"text_11\">\n      <!-- 0.6 -->\n      <g transform=\"translate(7.2 122.01075)scale(0.144 -0.144)\">\n       <use xlink:href=\"#STIXGeneral-Regular-48\"/>\n       <use x=\"49.999985\" xlink:href=\"#STIXGeneral-Regular-46\"/>\n       <use x=\"74.999969\" xlink:href=\"#STIXGeneral-Regular-54\"/>\n      </g>\n     </g>\n    </g>\n    <g id=\"ytick_5\">\n     <g id=\"line2d_24\">\n      <g>\n       <use style=\"stroke:#000000;stroke-width:0.5;\" x=\"29.2\" xlink:href=\"#mc7f84b1da7\" y=\"66.168\"/>\n      </g>\n     </g>\n     <g id=\"line2d_25\">\n      <g>\n       <use style=\"stroke:#000000;stroke-width:0.5;\" x=\"383.44\" xlink:href=\"#m0e20d6926f\" y=\"66.168\"/>\n      </g>\n     </g>\n     <g id=\"text_12\">\n      <!-- 0.8 -->\n      <defs>\n       <path d=\"M 44.5 15.5 \nQ 44.5 7.796875 39.140625 3.1875 \nQ 33.796875 -1.40625 24.796875 -1.40625 \nQ 16.40625 -1.40625 11 3.1875 \nQ 5.59375 7.796875 5.59375 14.90625 \nQ 5.59375 20.203125 8.1875 23.953125 \nQ 10.796875 27.703125 18.59375 33.203125 \nQ 11.09375 39.40625 8.640625 43.203125 \nQ 6.203125 47 6.203125 52 \nQ 6.203125 59.09375 11.640625 63.34375 \nQ 17.09375 67.59375 25.59375 67.59375 \nQ 32.90625 67.59375 37.65625 63.4375 \nQ 42.40625 59.296875 42.40625 53.296875 \nQ 42.40625 47.796875 39.546875 44.5 \nQ 36.703125 41.203125 29 37.09375 \nQ 38 31.09375 41.25 26.390625 \nQ 44.5 21.703125 44.5 15.5 \nz\nM 35.5 53.296875 \nQ 35.5 58.5 32.59375 61.640625 \nQ 29.703125 64.796875 24.59375 64.796875 \nQ 19.5 64.796875 16.546875 62.140625 \nQ 13.59375 59.5 13.59375 54.890625 \nQ 13.59375 50.296875 16.546875 46.546875 \nQ 19.5 42.796875 26.09375 38.90625 \nQ 31.203125 41.90625 33.34375 45.25 \nQ 35.5 48.59375 35.5 53.296875 \nz\nM 27.09375 27.203125 \nL 21.203125 31.203125 \nQ 16.796875 27.59375 15 24.140625 \nQ 13.203125 20.703125 13.203125 15.796875 \nQ 13.203125 9 16.640625 5.203125 \nQ 20.09375 1.40625 25.90625 1.40625 \nQ 30.796875 1.40625 33.84375 4.453125 \nQ 36.90625 7.5 36.90625 12.40625 \nQ 36.90625 16.90625 34.59375 20.296875 \nQ 32.296875 23.703125 27.09375 27.203125 \nz\n\" id=\"STIXGeneral-Regular-56\"/>\n      </defs>\n      <g transform=\"translate(7.2 69.52275)scale(0.144 -0.144)\">\n       <use xlink:href=\"#STIXGeneral-Regular-48\"/>\n       <use x=\"49.999985\" xlink:href=\"#STIXGeneral-Regular-46\"/>\n       <use x=\"74.999969\" xlink:href=\"#STIXGeneral-Regular-56\"/>\n      </g>\n     </g>\n    </g>\n    <g id=\"ytick_6\">\n     <g id=\"line2d_26\">\n      <g>\n       <use style=\"stroke:#000000;stroke-width:0.5;\" x=\"29.2\" xlink:href=\"#mc7f84b1da7\" y=\"13.68\"/>\n      </g>\n     </g>\n     <g id=\"line2d_27\">\n      <g>\n       <use style=\"stroke:#000000;stroke-width:0.5;\" x=\"383.44\" xlink:href=\"#m0e20d6926f\" y=\"13.68\"/>\n      </g>\n     </g>\n     <g id=\"text_13\">\n      <!-- 1.0 -->\n      <defs>\n       <path d=\"M 39.40625 0 \nL 11.796875 0 \nL 11.796875 1.5 \nQ 17.296875 1.796875 19.296875 3.546875 \nQ 21.296875 5.296875 21.296875 9.5 \nL 21.296875 54.40625 \nQ 21.296875 59.296875 18.296875 59.296875 \nQ 16.90625 59.296875 13.796875 58.09375 \nL 11.09375 57.09375 \nL 11.09375 58.5 \nL 29 67.59375 \nL 29.90625 67.296875 \nL 29.90625 7.59375 \nQ 29.90625 4.296875 31.90625 2.890625 \nQ 33.90625 1.5 39.40625 1.5 \nz\n\" id=\"STIXGeneral-Regular-49\"/>\n      </defs>\n      <g transform=\"translate(7.2 17.03475)scale(0.144 -0.144)\">\n       <use xlink:href=\"#STIXGeneral-Regular-49\"/>\n       <use x=\"49.999985\" xlink:href=\"#STIXGeneral-Regular-46\"/>\n       <use x=\"74.999969\" xlink:href=\"#STIXGeneral-Regular-48\"/>\n      </g>\n     </g>\n    </g>\n   </g>\n  </g>\n </g>\n <defs>\n  <clipPath id=\"p822e81bd5b\">\n   <rect height=\"262.44\" width=\"354.24\" x=\"29.2\" y=\"13.68\"/>\n  </clipPath>\n </defs>\n</svg>\n"
          },
          "metadata": {}
        }
      ]
    },
    {
      "cell_type": "code",
      "source": [
        ""
      ],
      "metadata": {
        "id": "KwkykcCYz3aS"
      },
      "execution_count": null,
      "outputs": []
    }
  ]
}