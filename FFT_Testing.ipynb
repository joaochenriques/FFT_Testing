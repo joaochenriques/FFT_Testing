{
  "nbformat": 4,
  "nbformat_minor": 0,
  "metadata": {
    "colab": {
      "name": "FFT_Testing.ipynb",
      "provenance": [],
      "authorship_tag": "ABX9TyOGeXIyGSKsrem5Qioh9hiV",
      "include_colab_link": true
    },
    "kernelspec": {
      "name": "python3",
      "display_name": "Python 3"
    },
    "language_info": {
      "name": "python"
    }
  },
  "cells": [
    {
      "cell_type": "markdown",
      "metadata": {
        "id": "view-in-github",
        "colab_type": "text"
      },
      "source": [
        "<a href=\"https://colab.research.google.com/github/joaochenriques/FFT_Testing/blob/main/FFT_Testing.ipynb\" target=\"_parent\"><img src=\"https://colab.research.google.com/assets/colab-badge.svg\" alt=\"Open In Colab\"/></a>"
      ]
    },
    {
      "cell_type": "code",
      "execution_count": 1,
      "metadata": {
        "id": "GVzmtrgSxAuu"
      },
      "outputs": [],
      "source": [
        "import numpy as np\n",
        "import matplotlib.pyplot as mpl"
      ]
    },
    {
      "cell_type": "code",
      "source": [
        "# If running python on Windows operating system, copy the file:\n",
        "# https://raw.githubusercontent.com/joaochenriques/ipynb_libs/main/mpl_utils.py\n",
        "# to the working folder before running the notebook\n",
        "\n",
        "import pathlib\n",
        "if not pathlib.Path(\"mpl_utils.py\").exists():\n",
        "  !curl -O https://raw.githubusercontent.com/joaochenriques/ipynb_libs/main/mpl_utils.py \n",
        "\n",
        "import mpl_utils as mut\n",
        "mut.config_plots()\n",
        "\n",
        "%config InlineBackend.figure_formats = ['svg']\n",
        "mpl.rcParams[\"figure.figsize\"] = (6,4.5)"
      ],
      "metadata": {
        "colab": {
          "base_uri": "https://localhost:8080/"
        },
        "id": "OLSZlNCWzu4f",
        "outputId": "8c11cbdc-220e-4684-f574-88f3bed22fa0"
      },
      "execution_count": 2,
      "outputs": [
        {
          "output_type": "stream",
          "name": "stdout",
          "text": [
            "  % Total    % Received % Xferd  Average Speed   Time    Time     Time  Current\n",
            "                                 Dload  Upload   Total   Spent    Left  Speed\n",
            "\r  0     0    0     0    0     0      0      0 --:--:-- --:--:-- --:--:--     0\r100  3483  100  3483    0     0  15831      0 --:--:-- --:--:-- --:--:-- 15831\n"
          ]
        }
      ]
    },
    {
      "cell_type": "code",
      "source": [
        "f = 2.0\n",
        "ω = 2.0 * np.pi * f \n",
        "t = np.linspace( 0, 100, 1024 )\n",
        "y = np.sin( ω * t  )"
      ],
      "metadata": {
        "id": "-0yjAgT_xHbJ"
      },
      "execution_count": 3,
      "outputs": []
    },
    {
      "cell_type": "code",
      "source": [
        "nFFT = 1024\n",
        "\n",
        "fsample = 1.0 / ( t[1] - t[0] )\n",
        "delta_f = fsample / nFFT\n",
        "\n",
        "fd_time = np.arange( nFFT ) / fsample\n",
        "fd_data = np.copy( y[-nFFT:] )  "
      ],
      "metadata": {
        "id": "bi_qbRrUxXvl"
      },
      "execution_count": 14,
      "outputs": []
    },
    {
      "cell_type": "code",
      "source": [
        "freqs = np.fft.fftfreq( n = nFFT, d = 1.0 / fsample )   # FFT frequencies\n",
        "Amps = np.fft.fft( fd_data, norm='forward' )            # FFT complex amplitudes\n",
        "\n",
        "Spec_Af  = 2.0 * np.abs( Amps )                         # abs amplitudes \n",
        "Spec_Var = 0.5 * Spec_Af**2                             # Variance spectrum\n",
        "Spec_Sf  = Spec_Var / delta_f                           # Spectral density\n",
        "\n",
        "Spec_A_mean = np.sqrt( sum( Spec_Sf ) * delta_f )       # mean Amplitude\n",
        "\n",
        "mpl.plot( freqs, np.abs( Amps ) )\n",
        "\n",
        "Spec_A_mean"
      ],
      "metadata": {
        "id": "eXjQ0YF_xYa9",
        "colab": {
          "base_uri": "https://localhost:8080/",
          "height": 439
        },
        "outputId": "b5b03301-ed01-49be-c450-ea095e88562d"
      },
      "execution_count": 64,
      "outputs": [
        {
          "output_type": "execute_result",
          "data": {
            "text/plain": [
              "0.999511599482467"
            ]
          },
          "metadata": {},
          "execution_count": 64
        },
        {
          "output_type": "display_data",
          "data": {
            "text/plain": [
              "<Figure size 1680x1260 with 1 Axes>"
            ],
            "image/svg+xml": "<?xml version=\"1.0\" encoding=\"utf-8\" standalone=\"no\"?>\n<!DOCTYPE svg PUBLIC \"-//W3C//DTD SVG 1.1//EN\"\n  \"http://www.w3.org/Graphics/SVG/1.1/DTD/svg11.dtd\">\n<!-- Created with matplotlib (https://matplotlib.org/) -->\n<svg height=\"300.28pt\" version=\"1.1\" viewBox=\"0 0 394.24 300.28\" width=\"394.24pt\" xmlns=\"http://www.w3.org/2000/svg\" xmlns:xlink=\"http://www.w3.org/1999/xlink\">\n <defs>\n  <style type=\"text/css\">\n*{stroke-linecap:butt;stroke-linejoin:round;}\n  </style>\n </defs>\n <g id=\"figure_1\">\n  <g id=\"patch_1\">\n   <path d=\"M 0 300.28 \nL 394.24 300.28 \nL 394.24 0 \nL 0 0 \nz\n\" style=\"fill:#ffffff;\"/>\n  </g>\n  <g id=\"axes_1\">\n   <g id=\"patch_2\">\n    <path d=\"M 29.2 276.12 \nL 383.44 276.12 \nL 383.44 13.68 \nL 29.2 13.68 \nz\n\" style=\"fill:#ffffff;\"/>\n   </g>\n   <g id=\"line2d_1\">\n    <path clip-path=\"url(#pc6281b88f7)\" d=\"M 206.32 276.12 \nL 238.465377 275.766907 \nL 248.197464 275.458624 \nL 253.505875 275.084558 \nL 256.454992 274.686232 \nL 258.519374 274.20404 \nL 259.993933 273.633024 \nL 260.878668 273.110279 \nL 261.763403 272.33056 \nL 262.353227 271.555954 \nL 262.94305 270.403407 \nL 263.532873 268.506895 \nL 263.827785 267.011161 \nL 264.122697 264.802462 \nL 264.417609 261.211452 \nL 264.71252 254.349295 \nL 265.007432 236.007365 \nL 265.302344 30.028508 \nL 265.597255 216.121644 \nL 265.892167 249.284245 \nL 266.187079 258.797318 \nL 266.481991 263.309474 \nL 267.071814 267.669743 \nL 267.661637 269.795347 \nL 268.251461 271.053816 \nL 268.841284 271.885895 \nL 269.72602 272.712544 \nL 270.905666 273.404532 \nL 272.380225 273.942569 \nL 274.444607 274.402478 \nL 277.393724 274.785829 \nL 281.8174 275.103183 \nL 288.895281 275.362272 \nL 301.576485 275.570759 \nL 326.054158 275.715691 \nL 357.019888 275.758538 \nL 55.3252 275.758542 \nL 101.62634 275.648 \nL 121.680337 275.410655 \nL 130.8226 275.103183 \nL 135.836099 274.724964 \nL 138.785216 274.293876 \nL 140.554687 273.853829 \nL 142.029245 273.260676 \nL 142.91398 272.712544 \nL 143.798716 271.885895 \nL 144.388539 271.053816 \nL 144.978362 269.795347 \nL 145.568186 267.669743 \nL 145.863098 265.943361 \nL 146.158009 263.309474 \nL 146.452921 258.797318 \nL 146.747833 249.284245 \nL 147.042745 216.121644 \nL 147.337656 30.028508 \nL 147.632568 236.007365 \nL 147.92748 254.349295 \nL 148.222391 261.211452 \nL 148.517303 264.802462 \nL 149.107127 268.506895 \nL 149.69695 270.403407 \nL 150.286773 271.555954 \nL 151.171509 272.629839 \nL 152.056244 273.306028 \nL 153.235891 273.895313 \nL 154.710449 274.369079 \nL 156.774831 274.785591 \nL 159.723948 275.14169 \nL 164.442536 275.458624 \nL 172.110241 275.720843 \nL 186.266003 275.947128 \nL 206.025088 276.11777 \nL 206.025088 276.11777 \n\" style=\"fill:none;stroke:#1f77b4;stroke-dasharray:6,0;stroke-dashoffset:0;stroke-width:1.5;\"/>\n   </g>\n   <g id=\"patch_3\">\n    <path d=\"M 29.2 276.12 \nL 29.2 13.68 \n\" style=\"fill:none;stroke:#000000;stroke-linecap:square;stroke-linejoin:miter;\"/>\n   </g>\n   <g id=\"patch_4\">\n    <path d=\"M 383.44 276.12 \nL 383.44 13.68 \n\" style=\"fill:none;stroke:#000000;stroke-linecap:square;stroke-linejoin:miter;\"/>\n   </g>\n   <g id=\"patch_5\">\n    <path d=\"M 29.2 276.12 \nL 383.44 276.12 \n\" style=\"fill:none;stroke:#000000;stroke-linecap:square;stroke-linejoin:miter;\"/>\n   </g>\n   <g id=\"patch_6\">\n    <path d=\"M 29.2 13.68 \nL 383.44 13.68 \n\" style=\"fill:none;stroke:#000000;stroke-linecap:square;stroke-linejoin:miter;\"/>\n   </g>\n   <g id=\"matplotlib.axis_1\">\n    <g id=\"xtick_1\">\n     <g id=\"line2d_2\">\n      <defs>\n       <path d=\"M 0 0 \nL 0 -4 \n\" id=\"m397c3a4e1a\" style=\"stroke:#000000;stroke-width:0.5;\"/>\n      </defs>\n      <g>\n       <use style=\"stroke:#000000;stroke-width:0.5;\" x=\"29.2\" xlink:href=\"#m397c3a4e1a\" y=\"276.12\"/>\n      </g>\n     </g>\n     <g id=\"line2d_3\">\n      <defs>\n       <path d=\"M 0 0 \nL 0 4 \n\" id=\"mbe8a8fa451\" style=\"stroke:#000000;stroke-width:0.5;\"/>\n      </defs>\n      <g>\n       <use style=\"stroke:#000000;stroke-width:0.5;\" x=\"29.2\" xlink:href=\"#mbe8a8fa451\" y=\"13.68\"/>\n      </g>\n     </g>\n     <g id=\"text_1\">\n      <!-- −6 -->\n      <defs>\n       <path d=\"M 62.09375 22 \nL 6.40625 22 \nL 6.40625 28.59375 \nL 62.09375 28.59375 \nz\n\" id=\"STIXGeneral-Regular-8722\"/>\n       <path d=\"M 44.59375 68.40625 \nL 44.796875 66.796875 \nQ 33 64.90625 25.09375 57.25 \nQ 17.203125 49.59375 15.203125 38.296875 \nQ 21 42.796875 27.90625 42.796875 \nQ 36.703125 42.796875 41.75 37.1875 \nQ 46.796875 31.59375 46.796875 21.90625 \nQ 46.796875 12.09375 41.703125 5.90625 \nQ 35.796875 -1.40625 25.796875 -1.40625 \nQ 13.59375 -1.40625 8.09375 8.703125 \nQ 3.40625 17.296875 3.40625 27.90625 \nQ 3.40625 44.296875 14.296875 55.5 \nQ 20.5 61.90625 27.046875 64.546875 \nQ 33.59375 67.203125 44.59375 68.40625 \nz\nM 37.796875 18.796875 \nQ 37.796875 38.203125 24.296875 38.203125 \nQ 19.296875 38.203125 16 35.546875 \nQ 12.703125 32.90625 12.703125 26.59375 \nQ 12.703125 14.90625 16.34375 8.15625 \nQ 20 1.40625 26.90625 1.40625 \nQ 32.203125 1.40625 35 6.15625 \nQ 37.796875 10.90625 37.796875 18.796875 \nz\n\" id=\"STIXGeneral-Regular-54\"/>\n      </defs>\n      <g transform=\"translate(20.668 289.95475)scale(0.144 -0.144)\">\n       <use xlink:href=\"#STIXGeneral-Regular-8722\"/>\n       <use x=\"68.499985\" xlink:href=\"#STIXGeneral-Regular-54\"/>\n      </g>\n     </g>\n    </g>\n    <g id=\"xtick_2\">\n     <g id=\"line2d_4\">\n      <g>\n       <use style=\"stroke:#000000;stroke-width:0.5;\" x=\"88.24\" xlink:href=\"#m397c3a4e1a\" y=\"276.12\"/>\n      </g>\n     </g>\n     <g id=\"line2d_5\">\n      <g>\n       <use style=\"stroke:#000000;stroke-width:0.5;\" x=\"88.24\" xlink:href=\"#mbe8a8fa451\" y=\"13.68\"/>\n      </g>\n     </g>\n     <g id=\"text_2\">\n      <!-- −4 -->\n      <defs>\n       <path d=\"M 47.296875 16.703125 \nL 37 16.703125 \nL 37 0 \nL 29.203125 0 \nL 29.203125 16.703125 \nL 1.203125 16.703125 \nL 1.203125 23.09375 \nL 32.59375 67.59375 \nL 37 67.59375 \nL 37 23.09375 \nL 47.296875 23.09375 \nz\nM 29.203125 23.09375 \nL 29.203125 57.40625 \nL 5.203125 23.09375 \nz\n\" id=\"STIXGeneral-Regular-52\"/>\n      </defs>\n      <g transform=\"translate(79.708 289.95475)scale(0.144 -0.144)\">\n       <use xlink:href=\"#STIXGeneral-Regular-8722\"/>\n       <use x=\"68.499985\" xlink:href=\"#STIXGeneral-Regular-52\"/>\n      </g>\n     </g>\n    </g>\n    <g id=\"xtick_3\">\n     <g id=\"line2d_6\">\n      <g>\n       <use style=\"stroke:#000000;stroke-width:0.5;\" x=\"147.28\" xlink:href=\"#m397c3a4e1a\" y=\"276.12\"/>\n      </g>\n     </g>\n     <g id=\"line2d_7\">\n      <g>\n       <use style=\"stroke:#000000;stroke-width:0.5;\" x=\"147.28\" xlink:href=\"#mbe8a8fa451\" y=\"13.68\"/>\n      </g>\n     </g>\n     <g id=\"text_3\">\n      <!-- −2 -->\n      <defs>\n       <path d=\"M 47.40625 13.703125 \nL 42 0 \nL 2.90625 0 \nL 2.90625 1.203125 \nL 20.703125 20.09375 \nQ 27.703125 27.40625 30.703125 33.5 \nQ 33.703125 39.59375 33.703125 46.09375 \nQ 33.703125 52.796875 30 56.5 \nQ 26.296875 60.203125 19.796875 60.203125 \nQ 14.40625 60.203125 11.25 57.390625 \nQ 8.09375 54.59375 5.09375 47.203125 \nL 3 47.703125 \nQ 4.703125 57 9.84375 62.296875 \nQ 15 67.59375 23.796875 67.59375 \nQ 32.09375 67.59375 37.1875 62.59375 \nQ 42.296875 57.59375 42.296875 50 \nQ 42.296875 38.703125 29.5 25.203125 \nL 13 7.59375 \nL 36.40625 7.59375 \nQ 39.703125 7.59375 41.640625 8.890625 \nQ 43.59375 10.203125 46 14.296875 \nz\n\" id=\"STIXGeneral-Regular-50\"/>\n      </defs>\n      <g transform=\"translate(138.748 289.95475)scale(0.144 -0.144)\">\n       <use xlink:href=\"#STIXGeneral-Regular-8722\"/>\n       <use x=\"68.499985\" xlink:href=\"#STIXGeneral-Regular-50\"/>\n      </g>\n     </g>\n    </g>\n    <g id=\"xtick_4\">\n     <g id=\"line2d_8\">\n      <g>\n       <use style=\"stroke:#000000;stroke-width:0.5;\" x=\"206.32\" xlink:href=\"#m397c3a4e1a\" y=\"276.12\"/>\n      </g>\n     </g>\n     <g id=\"line2d_9\">\n      <g>\n       <use style=\"stroke:#000000;stroke-width:0.5;\" x=\"206.32\" xlink:href=\"#mbe8a8fa451\" y=\"13.68\"/>\n      </g>\n     </g>\n     <g id=\"text_4\">\n      <!-- 0 -->\n      <defs>\n       <path d=\"M 47.59375 33 \nQ 47.59375 26.296875 46.296875 20.34375 \nQ 45 14.40625 42.453125 9.40625 \nQ 39.90625 4.40625 35.40625 1.5 \nQ 30.90625 -1.40625 25 -1.40625 \nQ 18.90625 -1.40625 14.296875 1.6875 \nQ 9.703125 4.796875 7.203125 10 \nQ 4.703125 15.203125 3.546875 21.09375 \nQ 2.40625 27 2.40625 33.59375 \nQ 2.40625 42.90625 4.703125 50.34375 \nQ 7 57.796875 12.34375 62.6875 \nQ 17.703125 67.59375 25.40625 67.59375 \nQ 35.203125 67.59375 41.390625 58 \nQ 47.59375 48.40625 47.59375 33 \nz\nM 38 32.5 \nQ 38 48.296875 34.640625 56.640625 \nQ 31.296875 65 24.796875 65 \nQ 18.59375 65 15.296875 56.59375 \nQ 12 48.203125 12 32.90625 \nQ 12 17.5 15.296875 9.34375 \nQ 18.59375 1.203125 25 1.203125 \nQ 31.296875 1.203125 34.640625 9.34375 \nQ 38 17.5 38 32.5 \nz\n\" id=\"STIXGeneral-Regular-48\"/>\n      </defs>\n      <g transform=\"translate(202.72 289.95475)scale(0.144 -0.144)\">\n       <use xlink:href=\"#STIXGeneral-Regular-48\"/>\n      </g>\n     </g>\n    </g>\n    <g id=\"xtick_5\">\n     <g id=\"line2d_10\">\n      <g>\n       <use style=\"stroke:#000000;stroke-width:0.5;\" x=\"265.36\" xlink:href=\"#m397c3a4e1a\" y=\"276.12\"/>\n      </g>\n     </g>\n     <g id=\"line2d_11\">\n      <g>\n       <use style=\"stroke:#000000;stroke-width:0.5;\" x=\"265.36\" xlink:href=\"#mbe8a8fa451\" y=\"13.68\"/>\n      </g>\n     </g>\n     <g id=\"text_5\">\n      <!-- 2 -->\n      <g transform=\"translate(261.76 289.95475)scale(0.144 -0.144)\">\n       <use xlink:href=\"#STIXGeneral-Regular-50\"/>\n      </g>\n     </g>\n    </g>\n    <g id=\"xtick_6\">\n     <g id=\"line2d_12\">\n      <g>\n       <use style=\"stroke:#000000;stroke-width:0.5;\" x=\"324.4\" xlink:href=\"#m397c3a4e1a\" y=\"276.12\"/>\n      </g>\n     </g>\n     <g id=\"line2d_13\">\n      <g>\n       <use style=\"stroke:#000000;stroke-width:0.5;\" x=\"324.4\" xlink:href=\"#mbe8a8fa451\" y=\"13.68\"/>\n      </g>\n     </g>\n     <g id=\"text_6\">\n      <!-- 4 -->\n      <g transform=\"translate(320.8 289.95475)scale(0.144 -0.144)\">\n       <use xlink:href=\"#STIXGeneral-Regular-52\"/>\n      </g>\n     </g>\n    </g>\n    <g id=\"xtick_7\">\n     <g id=\"line2d_14\">\n      <g>\n       <use style=\"stroke:#000000;stroke-width:0.5;\" x=\"383.44\" xlink:href=\"#m397c3a4e1a\" y=\"276.12\"/>\n      </g>\n     </g>\n     <g id=\"line2d_15\">\n      <g>\n       <use style=\"stroke:#000000;stroke-width:0.5;\" x=\"383.44\" xlink:href=\"#mbe8a8fa451\" y=\"13.68\"/>\n      </g>\n     </g>\n     <g id=\"text_7\">\n      <!-- 6 -->\n      <g transform=\"translate(379.84 289.95475)scale(0.144 -0.144)\">\n       <use xlink:href=\"#STIXGeneral-Regular-54\"/>\n      </g>\n     </g>\n    </g>\n   </g>\n   <g id=\"matplotlib.axis_2\">\n    <g id=\"ytick_1\">\n     <g id=\"line2d_16\">\n      <defs>\n       <path d=\"M 0 0 \nL 4 0 \n\" id=\"mdd3043fd85\" style=\"stroke:#000000;stroke-width:0.5;\"/>\n      </defs>\n      <g>\n       <use style=\"stroke:#000000;stroke-width:0.5;\" x=\"29.2\" xlink:href=\"#mdd3043fd85\" y=\"276.12\"/>\n      </g>\n     </g>\n     <g id=\"line2d_17\">\n      <defs>\n       <path d=\"M 0 0 \nL -4 0 \n\" id=\"m74bc4ee8fb\" style=\"stroke:#000000;stroke-width:0.5;\"/>\n      </defs>\n      <g>\n       <use style=\"stroke:#000000;stroke-width:0.5;\" x=\"383.44\" xlink:href=\"#m74bc4ee8fb\" y=\"276.12\"/>\n      </g>\n     </g>\n     <g id=\"text_8\">\n      <!-- 0.0 -->\n      <defs>\n       <path d=\"M 18.09375 4.296875 \nQ 18.09375 2.09375 16.4375 0.5 \nQ 14.796875 -1.09375 12.5 -1.09375 \nQ 10.203125 -1.09375 8.59375 0.5 \nQ 7 2.09375 7 4.390625 \nQ 7 6.703125 8.640625 8.34375 \nQ 10.296875 10 12.59375 10 \nQ 14.796875 10 16.4375 8.296875 \nQ 18.09375 6.59375 18.09375 4.296875 \nz\n\" id=\"STIXGeneral-Regular-46\"/>\n      </defs>\n      <g transform=\"translate(7.2 279.47475)scale(0.144 -0.144)\">\n       <use xlink:href=\"#STIXGeneral-Regular-48\"/>\n       <use x=\"49.999985\" xlink:href=\"#STIXGeneral-Regular-46\"/>\n       <use x=\"74.999969\" xlink:href=\"#STIXGeneral-Regular-48\"/>\n      </g>\n     </g>\n    </g>\n    <g id=\"ytick_2\">\n     <g id=\"line2d_18\">\n      <g>\n       <use style=\"stroke:#000000;stroke-width:0.5;\" x=\"29.2\" xlink:href=\"#mdd3043fd85\" y=\"223.632\"/>\n      </g>\n     </g>\n     <g id=\"line2d_19\">\n      <g>\n       <use style=\"stroke:#000000;stroke-width:0.5;\" x=\"383.44\" xlink:href=\"#m74bc4ee8fb\" y=\"223.632\"/>\n      </g>\n     </g>\n     <g id=\"text_9\">\n      <!-- 0.1 -->\n      <defs>\n       <path d=\"M 39.40625 0 \nL 11.796875 0 \nL 11.796875 1.5 \nQ 17.296875 1.796875 19.296875 3.546875 \nQ 21.296875 5.296875 21.296875 9.5 \nL 21.296875 54.40625 \nQ 21.296875 59.296875 18.296875 59.296875 \nQ 16.90625 59.296875 13.796875 58.09375 \nL 11.09375 57.09375 \nL 11.09375 58.5 \nL 29 67.59375 \nL 29.90625 67.296875 \nL 29.90625 7.59375 \nQ 29.90625 4.296875 31.90625 2.890625 \nQ 33.90625 1.5 39.40625 1.5 \nz\n\" id=\"STIXGeneral-Regular-49\"/>\n      </defs>\n      <g transform=\"translate(7.2 226.98675)scale(0.144 -0.144)\">\n       <use xlink:href=\"#STIXGeneral-Regular-48\"/>\n       <use x=\"49.999985\" xlink:href=\"#STIXGeneral-Regular-46\"/>\n       <use x=\"74.999969\" xlink:href=\"#STIXGeneral-Regular-49\"/>\n      </g>\n     </g>\n    </g>\n    <g id=\"ytick_3\">\n     <g id=\"line2d_20\">\n      <g>\n       <use style=\"stroke:#000000;stroke-width:0.5;\" x=\"29.2\" xlink:href=\"#mdd3043fd85\" y=\"171.144\"/>\n      </g>\n     </g>\n     <g id=\"line2d_21\">\n      <g>\n       <use style=\"stroke:#000000;stroke-width:0.5;\" x=\"383.44\" xlink:href=\"#m74bc4ee8fb\" y=\"171.144\"/>\n      </g>\n     </g>\n     <g id=\"text_10\">\n      <!-- 0.2 -->\n      <g transform=\"translate(7.2 174.49875)scale(0.144 -0.144)\">\n       <use xlink:href=\"#STIXGeneral-Regular-48\"/>\n       <use x=\"49.999985\" xlink:href=\"#STIXGeneral-Regular-46\"/>\n       <use x=\"74.999969\" xlink:href=\"#STIXGeneral-Regular-50\"/>\n      </g>\n     </g>\n    </g>\n    <g id=\"ytick_4\">\n     <g id=\"line2d_22\">\n      <g>\n       <use style=\"stroke:#000000;stroke-width:0.5;\" x=\"29.2\" xlink:href=\"#mdd3043fd85\" y=\"118.656\"/>\n      </g>\n     </g>\n     <g id=\"line2d_23\">\n      <g>\n       <use style=\"stroke:#000000;stroke-width:0.5;\" x=\"383.44\" xlink:href=\"#m74bc4ee8fb\" y=\"118.656\"/>\n      </g>\n     </g>\n     <g id=\"text_11\">\n      <!-- 0.3 -->\n      <defs>\n       <path d=\"M 6.09375 51 \nL 4.5 51.40625 \nQ 6.796875 58.90625 11.6875 63.25 \nQ 16.59375 67.59375 24.09375 67.59375 \nQ 31.09375 67.59375 35.390625 63.796875 \nQ 39.703125 60 39.703125 53.90625 \nQ 39.703125 45.703125 30.40625 40.09375 \nQ 35.90625 37.703125 38.703125 34.796875 \nQ 43.09375 29.90625 43.09375 21.90625 \nQ 43.09375 13.90625 38.5 7.90625 \nQ 35.09375 3.296875 28.75 0.9375 \nQ 22.40625 -1.40625 15.296875 -1.40625 \nQ 4.09375 -1.40625 4.09375 4.296875 \nQ 4.09375 5.90625 5.296875 6.90625 \nQ 6.5 7.90625 8.203125 7.90625 \nQ 10.703125 7.90625 14.296875 5.296875 \nQ 18.703125 2.203125 22.90625 2.203125 \nQ 28.40625 2.203125 32.15625 6.640625 \nQ 35.90625 11.09375 35.90625 17.5 \nQ 35.90625 29 25.5 32 \nQ 22.40625 33 15.296875 33 \nL 15.296875 34.40625 \nQ 20.90625 36.296875 23.703125 38 \nQ 31.796875 42.59375 31.796875 51.40625 \nQ 31.796875 56.40625 28.9375 59 \nQ 26.09375 61.59375 21 61.59375 \nQ 12 61.59375 6.09375 51 \nz\n\" id=\"STIXGeneral-Regular-51\"/>\n      </defs>\n      <g transform=\"translate(7.2 122.01075)scale(0.144 -0.144)\">\n       <use xlink:href=\"#STIXGeneral-Regular-48\"/>\n       <use x=\"49.999985\" xlink:href=\"#STIXGeneral-Regular-46\"/>\n       <use x=\"74.999969\" xlink:href=\"#STIXGeneral-Regular-51\"/>\n      </g>\n     </g>\n    </g>\n    <g id=\"ytick_5\">\n     <g id=\"line2d_24\">\n      <g>\n       <use style=\"stroke:#000000;stroke-width:0.5;\" x=\"29.2\" xlink:href=\"#mdd3043fd85\" y=\"66.168\"/>\n      </g>\n     </g>\n     <g id=\"line2d_25\">\n      <g>\n       <use style=\"stroke:#000000;stroke-width:0.5;\" x=\"383.44\" xlink:href=\"#m74bc4ee8fb\" y=\"66.168\"/>\n      </g>\n     </g>\n     <g id=\"text_12\">\n      <!-- 0.4 -->\n      <g transform=\"translate(7.2 69.52275)scale(0.144 -0.144)\">\n       <use xlink:href=\"#STIXGeneral-Regular-48\"/>\n       <use x=\"49.999985\" xlink:href=\"#STIXGeneral-Regular-46\"/>\n       <use x=\"74.999969\" xlink:href=\"#STIXGeneral-Regular-52\"/>\n      </g>\n     </g>\n    </g>\n    <g id=\"ytick_6\">\n     <g id=\"line2d_26\">\n      <g>\n       <use style=\"stroke:#000000;stroke-width:0.5;\" x=\"29.2\" xlink:href=\"#mdd3043fd85\" y=\"13.68\"/>\n      </g>\n     </g>\n     <g id=\"line2d_27\">\n      <g>\n       <use style=\"stroke:#000000;stroke-width:0.5;\" x=\"383.44\" xlink:href=\"#m74bc4ee8fb\" y=\"13.68\"/>\n      </g>\n     </g>\n     <g id=\"text_13\">\n      <!-- 0.5 -->\n      <defs>\n       <path d=\"M 43.796875 68.09375 \nL 40.203125 59.59375 \nQ 39.59375 58.296875 37.5 58.296875 \nL 18.09375 58.296875 \nL 14.09375 49.796875 \nQ 25.09375 47.703125 30 45.25 \nQ 34.90625 42.796875 39.09375 37 \nQ 42.59375 32.203125 42.59375 24.296875 \nQ 42.59375 17.09375 40.25 12.1875 \nQ 37.90625 7.296875 32.796875 3.5 \nQ 26 -1.40625 15.796875 -1.40625 \nQ 10.09375 -1.40625 6.59375 0.296875 \nQ 3.09375 2 3.09375 4.796875 \nQ 3.09375 8.59375 7.59375 8.59375 \nQ 11.203125 8.59375 15 5.5 \nQ 18.90625 2.296875 22.09375 2.296875 \nQ 27.296875 2.296875 31.4375 7.5 \nQ 35.59375 12.703125 35.59375 19.203125 \nQ 35.59375 28.796875 28.90625 34.203125 \nQ 20.203125 41.203125 7.59375 41.203125 \nQ 6.40625 41.203125 6.40625 42 \nL 6.5 42.5 \nL 17.40625 66.203125 \nL 38.09375 66.203125 \nQ 39.796875 66.203125 40.75 66.703125 \nQ 41.703125 67.203125 42.90625 68.796875 \nz\n\" id=\"STIXGeneral-Regular-53\"/>\n      </defs>\n      <g transform=\"translate(7.2 17.03475)scale(0.144 -0.144)\">\n       <use xlink:href=\"#STIXGeneral-Regular-48\"/>\n       <use x=\"49.999985\" xlink:href=\"#STIXGeneral-Regular-46\"/>\n       <use x=\"74.999969\" xlink:href=\"#STIXGeneral-Regular-53\"/>\n      </g>\n     </g>\n    </g>\n   </g>\n  </g>\n </g>\n <defs>\n  <clipPath id=\"pc6281b88f7\">\n   <rect height=\"262.44\" width=\"354.24\" x=\"29.2\" y=\"13.68\"/>\n  </clipPath>\n </defs>\n</svg>\n"
          },
          "metadata": {}
        }
      ]
    },
    {
      "cell_type": "code",
      "source": [
        "freqs = np.fft.rfftfreq( n = nFFT, d = 1.0 / fsample )      # FFT frequencies\n",
        "Amps = np.sqrt(2) * np.fft.rfft( fd_data, norm='forward' )  # FFT complex amplitudes\n",
        "\n",
        "Spec_Af  = 2.0 * np.abs( Amps )                             # abs amplitudes \n",
        "Spec_Var = 0.5 * Spec_Af**2                                 # Variance spectrum\n",
        "Spec_Sf  = Spec_Var / delta_f                               # Spectral density\n",
        "\n",
        "Spec_A_mean = np.sqrt( sum( Spec_Sf ) * delta_f )           # mean Amplitude\n",
        "\n",
        "mpl.plot( freqs, np.abs( Amps ) )\n",
        "Spec_A_mean"
      ],
      "metadata": {
        "id": "KwkykcCYz3aS",
        "colab": {
          "base_uri": "https://localhost:8080/",
          "height": 439
        },
        "outputId": "e185bac9-1dfd-478f-e13c-d0ceeea85e51"
      },
      "execution_count": 65,
      "outputs": [
        {
          "output_type": "execute_result",
          "data": {
            "text/plain": [
              "0.9995120739522929"
            ]
          },
          "metadata": {},
          "execution_count": 65
        },
        {
          "output_type": "display_data",
          "data": {
            "text/plain": [
              "<Figure size 1680x1260 with 1 Axes>"
            ],
            "image/svg+xml": "<?xml version=\"1.0\" encoding=\"utf-8\" standalone=\"no\"?>\n<!DOCTYPE svg PUBLIC \"-//W3C//DTD SVG 1.1//EN\"\n  \"http://www.w3.org/Graphics/SVG/1.1/DTD/svg11.dtd\">\n<!-- Created with matplotlib (https://matplotlib.org/) -->\n<svg height=\"300.28pt\" version=\"1.1\" viewBox=\"0 0 394.24 300.28\" width=\"394.24pt\" xmlns=\"http://www.w3.org/2000/svg\" xmlns:xlink=\"http://www.w3.org/1999/xlink\">\n <defs>\n  <style type=\"text/css\">\n*{stroke-linecap:butt;stroke-linejoin:round;}\n  </style>\n </defs>\n <g id=\"figure_1\">\n  <g id=\"patch_1\">\n   <path d=\"M 0 300.28 \nL 394.24 300.28 \nL 394.24 0 \nL 0 0 \nz\n\" style=\"fill:#ffffff;\"/>\n  </g>\n  <g id=\"axes_1\">\n   <g id=\"patch_2\">\n    <path d=\"M 29.2 276.12 \nL 383.44 276.12 \nL 383.44 13.68 \nL 29.2 13.68 \nz\n\" style=\"fill:#ffffff;\"/>\n   </g>\n   <g id=\"line2d_1\">\n    <path clip-path=\"url(#p6ee5ecafe3)\" d=\"M 29.2 276.12 \nL 92.900931 275.769434 \nL 112.954928 275.45191 \nL 123.57175 275.074046 \nL 129.469984 274.671675 \nL 133.598748 274.184588 \nL 136.547866 273.607775 \nL 138.317336 273.079723 \nL 140.086806 272.292088 \nL 141.266453 271.509618 \nL 142.4461 270.345369 \nL 143.035923 269.520592 \nL 143.625747 268.429603 \nL 144.21557 266.918683 \nL 144.805394 264.687561 \nL 145.395217 261.060092 \nL 145.985041 254.128267 \nL 146.574864 235.60012 \nL 147.164687 27.530053 \nL 147.754511 215.512508 \nL 148.344334 249.011793 \nL 148.934158 258.621448 \nL 149.523981 263.179415 \nL 150.113805 265.840042 \nL 150.703628 267.583951 \nL 151.293452 268.815309 \nL 151.883275 269.731135 \nL 153.062922 271.002381 \nL 154.242569 271.842908 \nL 155.422216 272.439921 \nL 157.191686 273.069041 \nL 159.55098 273.6257 \nL 162.500097 274.078908 \nL 166.628861 274.481373 \nL 173.116919 274.853979 \nL 183.143917 275.164518 \nL 199.658973 275.415981 \nL 229.150145 275.609106 \nL 287.542666 275.73504 \nL 331.1896 275.754872 \nL 331.1896 275.754872 \n\" style=\"fill:none;stroke:#1f77b4;stroke-dasharray:6,0;stroke-dashoffset:0;stroke-width:1.5;\"/>\n   </g>\n   <g id=\"patch_3\">\n    <path d=\"M 29.2 276.12 \nL 29.2 13.68 \n\" style=\"fill:none;stroke:#000000;stroke-linecap:square;stroke-linejoin:miter;\"/>\n   </g>\n   <g id=\"patch_4\">\n    <path d=\"M 383.44 276.12 \nL 383.44 13.68 \n\" style=\"fill:none;stroke:#000000;stroke-linecap:square;stroke-linejoin:miter;\"/>\n   </g>\n   <g id=\"patch_5\">\n    <path d=\"M 29.2 276.12 \nL 383.44 276.12 \n\" style=\"fill:none;stroke:#000000;stroke-linecap:square;stroke-linejoin:miter;\"/>\n   </g>\n   <g id=\"patch_6\">\n    <path d=\"M 29.2 13.68 \nL 383.44 13.68 \n\" style=\"fill:none;stroke:#000000;stroke-linecap:square;stroke-linejoin:miter;\"/>\n   </g>\n   <g id=\"matplotlib.axis_1\">\n    <g id=\"xtick_1\">\n     <g id=\"line2d_2\">\n      <defs>\n       <path d=\"M 0 0 \nL 0 -4 \n\" id=\"m0ee26cec8f\" style=\"stroke:#000000;stroke-width:0.5;\"/>\n      </defs>\n      <g>\n       <use style=\"stroke:#000000;stroke-width:0.5;\" x=\"29.2\" xlink:href=\"#m0ee26cec8f\" y=\"276.12\"/>\n      </g>\n     </g>\n     <g id=\"line2d_3\">\n      <defs>\n       <path d=\"M 0 0 \nL 0 4 \n\" id=\"m851999b332\" style=\"stroke:#000000;stroke-width:0.5;\"/>\n      </defs>\n      <g>\n       <use style=\"stroke:#000000;stroke-width:0.5;\" x=\"29.2\" xlink:href=\"#m851999b332\" y=\"13.68\"/>\n      </g>\n     </g>\n     <g id=\"text_1\">\n      <!-- 0 -->\n      <defs>\n       <path d=\"M 47.59375 33 \nQ 47.59375 26.296875 46.296875 20.34375 \nQ 45 14.40625 42.453125 9.40625 \nQ 39.90625 4.40625 35.40625 1.5 \nQ 30.90625 -1.40625 25 -1.40625 \nQ 18.90625 -1.40625 14.296875 1.6875 \nQ 9.703125 4.796875 7.203125 10 \nQ 4.703125 15.203125 3.546875 21.09375 \nQ 2.40625 27 2.40625 33.59375 \nQ 2.40625 42.90625 4.703125 50.34375 \nQ 7 57.796875 12.34375 62.6875 \nQ 17.703125 67.59375 25.40625 67.59375 \nQ 35.203125 67.59375 41.390625 58 \nQ 47.59375 48.40625 47.59375 33 \nz\nM 38 32.5 \nQ 38 48.296875 34.640625 56.640625 \nQ 31.296875 65 24.796875 65 \nQ 18.59375 65 15.296875 56.59375 \nQ 12 48.203125 12 32.90625 \nQ 12 17.5 15.296875 9.34375 \nQ 18.59375 1.203125 25 1.203125 \nQ 31.296875 1.203125 34.640625 9.34375 \nQ 38 17.5 38 32.5 \nz\n\" id=\"STIXGeneral-Regular-48\"/>\n      </defs>\n      <g transform=\"translate(25.6 289.95475)scale(0.144 -0.144)\">\n       <use xlink:href=\"#STIXGeneral-Regular-48\"/>\n      </g>\n     </g>\n    </g>\n    <g id=\"xtick_2\">\n     <g id=\"line2d_4\">\n      <g>\n       <use style=\"stroke:#000000;stroke-width:0.5;\" x=\"88.24\" xlink:href=\"#m0ee26cec8f\" y=\"276.12\"/>\n      </g>\n     </g>\n     <g id=\"line2d_5\">\n      <g>\n       <use style=\"stroke:#000000;stroke-width:0.5;\" x=\"88.24\" xlink:href=\"#m851999b332\" y=\"13.68\"/>\n      </g>\n     </g>\n     <g id=\"text_2\">\n      <!-- 1 -->\n      <defs>\n       <path d=\"M 39.40625 0 \nL 11.796875 0 \nL 11.796875 1.5 \nQ 17.296875 1.796875 19.296875 3.546875 \nQ 21.296875 5.296875 21.296875 9.5 \nL 21.296875 54.40625 \nQ 21.296875 59.296875 18.296875 59.296875 \nQ 16.90625 59.296875 13.796875 58.09375 \nL 11.09375 57.09375 \nL 11.09375 58.5 \nL 29 67.59375 \nL 29.90625 67.296875 \nL 29.90625 7.59375 \nQ 29.90625 4.296875 31.90625 2.890625 \nQ 33.90625 1.5 39.40625 1.5 \nz\n\" id=\"STIXGeneral-Regular-49\"/>\n      </defs>\n      <g transform=\"translate(84.64 289.95475)scale(0.144 -0.144)\">\n       <use xlink:href=\"#STIXGeneral-Regular-49\"/>\n      </g>\n     </g>\n    </g>\n    <g id=\"xtick_3\">\n     <g id=\"line2d_6\">\n      <g>\n       <use style=\"stroke:#000000;stroke-width:0.5;\" x=\"147.28\" xlink:href=\"#m0ee26cec8f\" y=\"276.12\"/>\n      </g>\n     </g>\n     <g id=\"line2d_7\">\n      <g>\n       <use style=\"stroke:#000000;stroke-width:0.5;\" x=\"147.28\" xlink:href=\"#m851999b332\" y=\"13.68\"/>\n      </g>\n     </g>\n     <g id=\"text_3\">\n      <!-- 2 -->\n      <defs>\n       <path d=\"M 47.40625 13.703125 \nL 42 0 \nL 2.90625 0 \nL 2.90625 1.203125 \nL 20.703125 20.09375 \nQ 27.703125 27.40625 30.703125 33.5 \nQ 33.703125 39.59375 33.703125 46.09375 \nQ 33.703125 52.796875 30 56.5 \nQ 26.296875 60.203125 19.796875 60.203125 \nQ 14.40625 60.203125 11.25 57.390625 \nQ 8.09375 54.59375 5.09375 47.203125 \nL 3 47.703125 \nQ 4.703125 57 9.84375 62.296875 \nQ 15 67.59375 23.796875 67.59375 \nQ 32.09375 67.59375 37.1875 62.59375 \nQ 42.296875 57.59375 42.296875 50 \nQ 42.296875 38.703125 29.5 25.203125 \nL 13 7.59375 \nL 36.40625 7.59375 \nQ 39.703125 7.59375 41.640625 8.890625 \nQ 43.59375 10.203125 46 14.296875 \nz\n\" id=\"STIXGeneral-Regular-50\"/>\n      </defs>\n      <g transform=\"translate(143.68 289.95475)scale(0.144 -0.144)\">\n       <use xlink:href=\"#STIXGeneral-Regular-50\"/>\n      </g>\n     </g>\n    </g>\n    <g id=\"xtick_4\">\n     <g id=\"line2d_8\">\n      <g>\n       <use style=\"stroke:#000000;stroke-width:0.5;\" x=\"206.32\" xlink:href=\"#m0ee26cec8f\" y=\"276.12\"/>\n      </g>\n     </g>\n     <g id=\"line2d_9\">\n      <g>\n       <use style=\"stroke:#000000;stroke-width:0.5;\" x=\"206.32\" xlink:href=\"#m851999b332\" y=\"13.68\"/>\n      </g>\n     </g>\n     <g id=\"text_4\">\n      <!-- 3 -->\n      <defs>\n       <path d=\"M 6.09375 51 \nL 4.5 51.40625 \nQ 6.796875 58.90625 11.6875 63.25 \nQ 16.59375 67.59375 24.09375 67.59375 \nQ 31.09375 67.59375 35.390625 63.796875 \nQ 39.703125 60 39.703125 53.90625 \nQ 39.703125 45.703125 30.40625 40.09375 \nQ 35.90625 37.703125 38.703125 34.796875 \nQ 43.09375 29.90625 43.09375 21.90625 \nQ 43.09375 13.90625 38.5 7.90625 \nQ 35.09375 3.296875 28.75 0.9375 \nQ 22.40625 -1.40625 15.296875 -1.40625 \nQ 4.09375 -1.40625 4.09375 4.296875 \nQ 4.09375 5.90625 5.296875 6.90625 \nQ 6.5 7.90625 8.203125 7.90625 \nQ 10.703125 7.90625 14.296875 5.296875 \nQ 18.703125 2.203125 22.90625 2.203125 \nQ 28.40625 2.203125 32.15625 6.640625 \nQ 35.90625 11.09375 35.90625 17.5 \nQ 35.90625 29 25.5 32 \nQ 22.40625 33 15.296875 33 \nL 15.296875 34.40625 \nQ 20.90625 36.296875 23.703125 38 \nQ 31.796875 42.59375 31.796875 51.40625 \nQ 31.796875 56.40625 28.9375 59 \nQ 26.09375 61.59375 21 61.59375 \nQ 12 61.59375 6.09375 51 \nz\n\" id=\"STIXGeneral-Regular-51\"/>\n      </defs>\n      <g transform=\"translate(202.72 289.95475)scale(0.144 -0.144)\">\n       <use xlink:href=\"#STIXGeneral-Regular-51\"/>\n      </g>\n     </g>\n    </g>\n    <g id=\"xtick_5\">\n     <g id=\"line2d_10\">\n      <g>\n       <use style=\"stroke:#000000;stroke-width:0.5;\" x=\"265.36\" xlink:href=\"#m0ee26cec8f\" y=\"276.12\"/>\n      </g>\n     </g>\n     <g id=\"line2d_11\">\n      <g>\n       <use style=\"stroke:#000000;stroke-width:0.5;\" x=\"265.36\" xlink:href=\"#m851999b332\" y=\"13.68\"/>\n      </g>\n     </g>\n     <g id=\"text_5\">\n      <!-- 4 -->\n      <defs>\n       <path d=\"M 47.296875 16.703125 \nL 37 16.703125 \nL 37 0 \nL 29.203125 0 \nL 29.203125 16.703125 \nL 1.203125 16.703125 \nL 1.203125 23.09375 \nL 32.59375 67.59375 \nL 37 67.59375 \nL 37 23.09375 \nL 47.296875 23.09375 \nz\nM 29.203125 23.09375 \nL 29.203125 57.40625 \nL 5.203125 23.09375 \nz\n\" id=\"STIXGeneral-Regular-52\"/>\n      </defs>\n      <g transform=\"translate(261.76 289.95475)scale(0.144 -0.144)\">\n       <use xlink:href=\"#STIXGeneral-Regular-52\"/>\n      </g>\n     </g>\n    </g>\n    <g id=\"xtick_6\">\n     <g id=\"line2d_12\">\n      <g>\n       <use style=\"stroke:#000000;stroke-width:0.5;\" x=\"324.4\" xlink:href=\"#m0ee26cec8f\" y=\"276.12\"/>\n      </g>\n     </g>\n     <g id=\"line2d_13\">\n      <g>\n       <use style=\"stroke:#000000;stroke-width:0.5;\" x=\"324.4\" xlink:href=\"#m851999b332\" y=\"13.68\"/>\n      </g>\n     </g>\n     <g id=\"text_6\">\n      <!-- 5 -->\n      <defs>\n       <path d=\"M 43.796875 68.09375 \nL 40.203125 59.59375 \nQ 39.59375 58.296875 37.5 58.296875 \nL 18.09375 58.296875 \nL 14.09375 49.796875 \nQ 25.09375 47.703125 30 45.25 \nQ 34.90625 42.796875 39.09375 37 \nQ 42.59375 32.203125 42.59375 24.296875 \nQ 42.59375 17.09375 40.25 12.1875 \nQ 37.90625 7.296875 32.796875 3.5 \nQ 26 -1.40625 15.796875 -1.40625 \nQ 10.09375 -1.40625 6.59375 0.296875 \nQ 3.09375 2 3.09375 4.796875 \nQ 3.09375 8.59375 7.59375 8.59375 \nQ 11.203125 8.59375 15 5.5 \nQ 18.90625 2.296875 22.09375 2.296875 \nQ 27.296875 2.296875 31.4375 7.5 \nQ 35.59375 12.703125 35.59375 19.203125 \nQ 35.59375 28.796875 28.90625 34.203125 \nQ 20.203125 41.203125 7.59375 41.203125 \nQ 6.40625 41.203125 6.40625 42 \nL 6.5 42.5 \nL 17.40625 66.203125 \nL 38.09375 66.203125 \nQ 39.796875 66.203125 40.75 66.703125 \nQ 41.703125 67.203125 42.90625 68.796875 \nz\n\" id=\"STIXGeneral-Regular-53\"/>\n      </defs>\n      <g transform=\"translate(320.8 289.95475)scale(0.144 -0.144)\">\n       <use xlink:href=\"#STIXGeneral-Regular-53\"/>\n      </g>\n     </g>\n    </g>\n    <g id=\"xtick_7\">\n     <g id=\"line2d_14\">\n      <g>\n       <use style=\"stroke:#000000;stroke-width:0.5;\" x=\"383.44\" xlink:href=\"#m0ee26cec8f\" y=\"276.12\"/>\n      </g>\n     </g>\n     <g id=\"line2d_15\">\n      <g>\n       <use style=\"stroke:#000000;stroke-width:0.5;\" x=\"383.44\" xlink:href=\"#m851999b332\" y=\"13.68\"/>\n      </g>\n     </g>\n     <g id=\"text_7\">\n      <!-- 6 -->\n      <defs>\n       <path d=\"M 44.59375 68.40625 \nL 44.796875 66.796875 \nQ 33 64.90625 25.09375 57.25 \nQ 17.203125 49.59375 15.203125 38.296875 \nQ 21 42.796875 27.90625 42.796875 \nQ 36.703125 42.796875 41.75 37.1875 \nQ 46.796875 31.59375 46.796875 21.90625 \nQ 46.796875 12.09375 41.703125 5.90625 \nQ 35.796875 -1.40625 25.796875 -1.40625 \nQ 13.59375 -1.40625 8.09375 8.703125 \nQ 3.40625 17.296875 3.40625 27.90625 \nQ 3.40625 44.296875 14.296875 55.5 \nQ 20.5 61.90625 27.046875 64.546875 \nQ 33.59375 67.203125 44.59375 68.40625 \nz\nM 37.796875 18.796875 \nQ 37.796875 38.203125 24.296875 38.203125 \nQ 19.296875 38.203125 16 35.546875 \nQ 12.703125 32.90625 12.703125 26.59375 \nQ 12.703125 14.90625 16.34375 8.15625 \nQ 20 1.40625 26.90625 1.40625 \nQ 32.203125 1.40625 35 6.15625 \nQ 37.796875 10.90625 37.796875 18.796875 \nz\n\" id=\"STIXGeneral-Regular-54\"/>\n      </defs>\n      <g transform=\"translate(379.84 289.95475)scale(0.144 -0.144)\">\n       <use xlink:href=\"#STIXGeneral-Regular-54\"/>\n      </g>\n     </g>\n    </g>\n   </g>\n   <g id=\"matplotlib.axis_2\">\n    <g id=\"ytick_1\">\n     <g id=\"line2d_16\">\n      <defs>\n       <path d=\"M 0 0 \nL 4 0 \n\" id=\"m6b4feeb8b3\" style=\"stroke:#000000;stroke-width:0.5;\"/>\n      </defs>\n      <g>\n       <use style=\"stroke:#000000;stroke-width:0.5;\" x=\"29.2\" xlink:href=\"#m6b4feeb8b3\" y=\"276.12\"/>\n      </g>\n     </g>\n     <g id=\"line2d_17\">\n      <defs>\n       <path d=\"M 0 0 \nL -4 0 \n\" id=\"m41108b46f6\" style=\"stroke:#000000;stroke-width:0.5;\"/>\n      </defs>\n      <g>\n       <use style=\"stroke:#000000;stroke-width:0.5;\" x=\"383.44\" xlink:href=\"#m41108b46f6\" y=\"276.12\"/>\n      </g>\n     </g>\n     <g id=\"text_8\">\n      <!-- 0.0 -->\n      <defs>\n       <path d=\"M 18.09375 4.296875 \nQ 18.09375 2.09375 16.4375 0.5 \nQ 14.796875 -1.09375 12.5 -1.09375 \nQ 10.203125 -1.09375 8.59375 0.5 \nQ 7 2.09375 7 4.390625 \nQ 7 6.703125 8.640625 8.34375 \nQ 10.296875 10 12.59375 10 \nQ 14.796875 10 16.4375 8.296875 \nQ 18.09375 6.59375 18.09375 4.296875 \nz\n\" id=\"STIXGeneral-Regular-46\"/>\n      </defs>\n      <g transform=\"translate(7.2 279.47475)scale(0.144 -0.144)\">\n       <use xlink:href=\"#STIXGeneral-Regular-48\"/>\n       <use x=\"49.999985\" xlink:href=\"#STIXGeneral-Regular-46\"/>\n       <use x=\"74.999969\" xlink:href=\"#STIXGeneral-Regular-48\"/>\n      </g>\n     </g>\n    </g>\n    <g id=\"ytick_2\">\n     <g id=\"line2d_18\">\n      <g>\n       <use style=\"stroke:#000000;stroke-width:0.5;\" x=\"29.2\" xlink:href=\"#m6b4feeb8b3\" y=\"238.628571\"/>\n      </g>\n     </g>\n     <g id=\"line2d_19\">\n      <g>\n       <use style=\"stroke:#000000;stroke-width:0.5;\" x=\"383.44\" xlink:href=\"#m41108b46f6\" y=\"238.628571\"/>\n      </g>\n     </g>\n     <g id=\"text_9\">\n      <!-- 0.1 -->\n      <g transform=\"translate(7.2 241.983321)scale(0.144 -0.144)\">\n       <use xlink:href=\"#STIXGeneral-Regular-48\"/>\n       <use x=\"49.999985\" xlink:href=\"#STIXGeneral-Regular-46\"/>\n       <use x=\"74.999969\" xlink:href=\"#STIXGeneral-Regular-49\"/>\n      </g>\n     </g>\n    </g>\n    <g id=\"ytick_3\">\n     <g id=\"line2d_20\">\n      <g>\n       <use style=\"stroke:#000000;stroke-width:0.5;\" x=\"29.2\" xlink:href=\"#m6b4feeb8b3\" y=\"201.137143\"/>\n      </g>\n     </g>\n     <g id=\"line2d_21\">\n      <g>\n       <use style=\"stroke:#000000;stroke-width:0.5;\" x=\"383.44\" xlink:href=\"#m41108b46f6\" y=\"201.137143\"/>\n      </g>\n     </g>\n     <g id=\"text_10\">\n      <!-- 0.2 -->\n      <g transform=\"translate(7.2 204.491893)scale(0.144 -0.144)\">\n       <use xlink:href=\"#STIXGeneral-Regular-48\"/>\n       <use x=\"49.999985\" xlink:href=\"#STIXGeneral-Regular-46\"/>\n       <use x=\"74.999969\" xlink:href=\"#STIXGeneral-Regular-50\"/>\n      </g>\n     </g>\n    </g>\n    <g id=\"ytick_4\">\n     <g id=\"line2d_22\">\n      <g>\n       <use style=\"stroke:#000000;stroke-width:0.5;\" x=\"29.2\" xlink:href=\"#m6b4feeb8b3\" y=\"163.645714\"/>\n      </g>\n     </g>\n     <g id=\"line2d_23\">\n      <g>\n       <use style=\"stroke:#000000;stroke-width:0.5;\" x=\"383.44\" xlink:href=\"#m41108b46f6\" y=\"163.645714\"/>\n      </g>\n     </g>\n     <g id=\"text_11\">\n      <!-- 0.3 -->\n      <g transform=\"translate(7.2 167.000464)scale(0.144 -0.144)\">\n       <use xlink:href=\"#STIXGeneral-Regular-48\"/>\n       <use x=\"49.999985\" xlink:href=\"#STIXGeneral-Regular-46\"/>\n       <use x=\"74.999969\" xlink:href=\"#STIXGeneral-Regular-51\"/>\n      </g>\n     </g>\n    </g>\n    <g id=\"ytick_5\">\n     <g id=\"line2d_24\">\n      <g>\n       <use style=\"stroke:#000000;stroke-width:0.5;\" x=\"29.2\" xlink:href=\"#m6b4feeb8b3\" y=\"126.154286\"/>\n      </g>\n     </g>\n     <g id=\"line2d_25\">\n      <g>\n       <use style=\"stroke:#000000;stroke-width:0.5;\" x=\"383.44\" xlink:href=\"#m41108b46f6\" y=\"126.154286\"/>\n      </g>\n     </g>\n     <g id=\"text_12\">\n      <!-- 0.4 -->\n      <g transform=\"translate(7.2 129.509036)scale(0.144 -0.144)\">\n       <use xlink:href=\"#STIXGeneral-Regular-48\"/>\n       <use x=\"49.999985\" xlink:href=\"#STIXGeneral-Regular-46\"/>\n       <use x=\"74.999969\" xlink:href=\"#STIXGeneral-Regular-52\"/>\n      </g>\n     </g>\n    </g>\n    <g id=\"ytick_6\">\n     <g id=\"line2d_26\">\n      <g>\n       <use style=\"stroke:#000000;stroke-width:0.5;\" x=\"29.2\" xlink:href=\"#m6b4feeb8b3\" y=\"88.662857\"/>\n      </g>\n     </g>\n     <g id=\"line2d_27\">\n      <g>\n       <use style=\"stroke:#000000;stroke-width:0.5;\" x=\"383.44\" xlink:href=\"#m41108b46f6\" y=\"88.662857\"/>\n      </g>\n     </g>\n     <g id=\"text_13\">\n      <!-- 0.5 -->\n      <g transform=\"translate(7.2 92.017607)scale(0.144 -0.144)\">\n       <use xlink:href=\"#STIXGeneral-Regular-48\"/>\n       <use x=\"49.999985\" xlink:href=\"#STIXGeneral-Regular-46\"/>\n       <use x=\"74.999969\" xlink:href=\"#STIXGeneral-Regular-53\"/>\n      </g>\n     </g>\n    </g>\n    <g id=\"ytick_7\">\n     <g id=\"line2d_28\">\n      <g>\n       <use style=\"stroke:#000000;stroke-width:0.5;\" x=\"29.2\" xlink:href=\"#m6b4feeb8b3\" y=\"51.171429\"/>\n      </g>\n     </g>\n     <g id=\"line2d_29\">\n      <g>\n       <use style=\"stroke:#000000;stroke-width:0.5;\" x=\"383.44\" xlink:href=\"#m41108b46f6\" y=\"51.171429\"/>\n      </g>\n     </g>\n     <g id=\"text_14\">\n      <!-- 0.6 -->\n      <g transform=\"translate(7.2 54.526179)scale(0.144 -0.144)\">\n       <use xlink:href=\"#STIXGeneral-Regular-48\"/>\n       <use x=\"49.999985\" xlink:href=\"#STIXGeneral-Regular-46\"/>\n       <use x=\"74.999969\" xlink:href=\"#STIXGeneral-Regular-54\"/>\n      </g>\n     </g>\n    </g>\n    <g id=\"ytick_8\">\n     <g id=\"line2d_30\">\n      <g>\n       <use style=\"stroke:#000000;stroke-width:0.5;\" x=\"29.2\" xlink:href=\"#m6b4feeb8b3\" y=\"13.68\"/>\n      </g>\n     </g>\n     <g id=\"line2d_31\">\n      <g>\n       <use style=\"stroke:#000000;stroke-width:0.5;\" x=\"383.44\" xlink:href=\"#m41108b46f6\" y=\"13.68\"/>\n      </g>\n     </g>\n     <g id=\"text_15\">\n      <!-- 0.7 -->\n      <defs>\n       <path d=\"M 44.90625 64.59375 \nL 23.703125 -0.796875 \nL 17.203125 -0.796875 \nL 37 58.796875 \nL 15.5 58.796875 \nQ 11.203125 58.796875 9.09375 57.296875 \nQ 7 55.796875 3.796875 50.59375 \nL 2 51.5 \nL 8 66.203125 \nL 44.90625 66.203125 \nz\n\" id=\"STIXGeneral-Regular-55\"/>\n      </defs>\n      <g transform=\"translate(7.2 17.03475)scale(0.144 -0.144)\">\n       <use xlink:href=\"#STIXGeneral-Regular-48\"/>\n       <use x=\"49.999985\" xlink:href=\"#STIXGeneral-Regular-46\"/>\n       <use x=\"74.999969\" xlink:href=\"#STIXGeneral-Regular-55\"/>\n      </g>\n     </g>\n    </g>\n   </g>\n  </g>\n </g>\n <defs>\n  <clipPath id=\"p6ee5ecafe3\">\n   <rect height=\"262.44\" width=\"354.24\" x=\"29.2\" y=\"13.68\"/>\n  </clipPath>\n </defs>\n</svg>\n"
          },
          "metadata": {}
        }
      ]
    },
    {
      "cell_type": "code",
      "source": [
        "Amps = np.sqrt(2) * np.fft.rfft( fd_data )  \n",
        "Amps"
      ],
      "metadata": {
        "colab": {
          "base_uri": "https://localhost:8080/"
        },
        "id": "9xnNtXH44BUa",
        "outputId": "dd4c3b84-7f91-4078-c519-d61fdb5ae817"
      },
      "execution_count": 44,
      "outputs": [
        {
          "output_type": "execute_result",
          "data": {
            "text/plain": [
              "array([ 5.21898733e-13+0.00000000e+00j,  1.88767638e-05-6.15284919e-03j,\n",
              "        7.55127659e-05-1.23065131e-02j,  1.69925139e-04-1.84618067e-02j,\n",
              "        3.02142450e-04-2.46195459e-02j,  4.72204730e-04-3.07805479e-02j,\n",
              "        6.80163491e-04-3.69456314e-02j,  9.26081772e-04-4.31156171e-02j,\n",
              "        1.21003419e-03-4.92913283e-02j,  1.53210699e-03-5.54735910e-02j,\n",
              "        1.89239811e-03-6.16632345e-02j,  2.29101726e-03-6.78610919e-02j,\n",
              "        2.72808600e-03-7.40680004e-02j,  3.20373782e-03-8.02848016e-02j,\n",
              "        3.71811829e-03-8.65123422e-02j,  4.27138511e-03-9.27514744e-02j,\n",
              "        4.86370826e-03-9.90030561e-02j,  5.49527013e-03-1.05267952e-01j,\n",
              "        6.16626566e-03-1.11547032e-01j,  6.87690248e-03-1.17841175e-01j,\n",
              "        7.62740109e-03-1.24151268e-01j,  8.41799500e-03-1.30478204e-01j,\n",
              "        9.24893096e-03-1.36822887e-01j,  1.01204691e-02-1.43186227e-01j,\n",
              "        1.10328832e-02-1.49569148e-01j,  1.19864608e-02-1.55972581e-01j,\n",
              "        1.29815035e-02-1.62397469e-01j,  1.40183274e-02-1.68844765e-01j,\n",
              "        1.50972627e-02-1.75315437e-01j,  1.62186550e-02-1.81810461e-01j,\n",
              "        1.73828645e-02-1.88330830e-01j,  1.85902670e-02-1.94877547e-01j,\n",
              "        1.98412541e-02-2.01451633e-01j,  2.11362332e-02-2.08054121e-01j,\n",
              "        2.24756282e-02-2.14686061e-01j,  2.38598797e-02-2.21348519e-01j,\n",
              "        2.52894454e-02-2.28042576e-01j,  2.67648004e-02-2.34769332e-01j,\n",
              "        2.82864379e-02-2.41529907e-01j,  2.98548692e-02-2.48325438e-01j,\n",
              "        3.14706243e-02-2.55157081e-01j,  3.31342527e-02-2.62026015e-01j,\n",
              "        3.48463234e-02-2.68933439e-01j,  3.66074257e-02-2.75880574e-01j,\n",
              "        3.84181695e-02-2.82868665e-01j,  4.02791862e-02-2.89898982e-01j,\n",
              "        4.21911289e-02-2.96972817e-01j,  4.41546732e-02-3.04091490e-01j,\n",
              "        4.61705180e-02-3.11256350e-01j,  4.82393857e-02-3.18468770e-01j,\n",
              "        5.03620233e-02-3.25730154e-01j,  5.25392029e-02-3.33041937e-01j,\n",
              "        5.47717225e-02-3.40405585e-01j,  5.70604068e-02-3.47822597e-01j,\n",
              "        5.94061079e-02-3.55294504e-01j,  6.18097066e-02-3.62822874e-01j,\n",
              "        6.42721125e-02-3.70409311e-01j,  6.67942655e-02-3.78055458e-01j,\n",
              "        6.93771369e-02-3.85762996e-01j,  7.20217297e-02-3.93533647e-01j,\n",
              "        7.47290805e-02-4.01369177e-01j,  7.75002600e-02-4.09271395e-01j,\n",
              "        8.03363744e-02-4.17242156e-01j,  8.32385665e-02-4.25283363e-01j,\n",
              "        8.62080171e-02-4.33396969e-01j,  8.92459463e-02-4.41584978e-01j,\n",
              "        9.23536148e-02-4.49849447e-01j,  9.55323254e-02-4.58192491e-01j,\n",
              "        9.87834243e-02-4.66616280e-01j,  1.02108303e-01-4.75123046e-01j,\n",
              "        1.05508400e-01-4.83715084e-01j,  1.08985202e-01-4.92394752e-01j,\n",
              "        1.12540247e-01-5.01164479e-01j,  1.16175124e-01-5.10026762e-01j,\n",
              "        1.19891477e-01-5.18984173e-01j,  1.23691006e-01-5.28039360e-01j,\n",
              "        1.27575471e-01-5.37195051e-01j,  1.31546690e-01-5.46454057e-01j,\n",
              "        1.35606548e-01-5.55819275e-01j,  1.39756993e-01-5.65293693e-01j,\n",
              "        1.44000042e-01-5.74880393e-01j,  1.48337785e-01-5.84582556e-01j,\n",
              "        1.52772385e-01-5.94403462e-01j,  1.57306083e-01-6.04346503e-01j,\n",
              "        1.61941199e-01-6.14415178e-01j,  1.66680140e-01-6.24613105e-01j,\n",
              "        1.71525398e-01-6.34944022e-01j,  1.76479559e-01-6.45411796e-01j,\n",
              "        1.81545302e-01-6.56020425e-01j,  1.86725407e-01-6.66774048e-01j,\n",
              "        1.92022760e-01-6.77676947e-01j,  1.97440354e-01-6.88733557e-01j,\n",
              "        2.02981296e-01-6.99948474e-01j,  2.08648813e-01-7.11326456e-01j,\n",
              "        2.14446256e-01-7.22872441e-01j,  2.20377108e-01-7.34591546e-01j,\n",
              "        2.26444987e-01-7.46489082e-01j,  2.32653657e-01-7.58570559e-01j,\n",
              "        2.39007031e-01-7.70841702e-01j,  2.45509179e-01-7.83308452e-01j,\n",
              "        2.52164337e-01-7.95976988e-01j,  2.58976918e-01-8.08853731e-01j,\n",
              "        2.65951513e-01-8.21945359e-01j,  2.73092908e-01-8.35258821e-01j,\n",
              "        2.80406090e-01-8.48801350e-01j,  2.87896260e-01-8.62580479e-01j,\n",
              "        2.95568842e-01-8.76604056e-01j,  3.03429495e-01-8.90880261e-01j,\n",
              "        3.11484127e-01-9.05417626e-01j,  3.19738909e-01-9.20225052e-01j,\n",
              "        3.28200288e-01-9.35311831e-01j,  3.36875003e-01-9.50687665e-01j,\n",
              "        3.45770101e-01-9.66362696e-01j,  3.54892957e-01-9.82347522e-01j,\n",
              "        3.64251289e-01-9.98653233e-01j,  3.73853182e-01-1.01529143e+00j,\n",
              "        3.83707106e-01-1.03227427e+00j,  3.93821944e-01-1.04961449e+00j,\n",
              "        4.04207012e-01-1.06732542e+00j,  4.14872088e-01-1.08542107e+00j,\n",
              "        4.25827441e-01-1.10391613e+00j,  4.37083862e-01-1.12282604e+00j,\n",
              "        4.48652695e-01-1.14216701e+00j,  4.60545877e-01-1.16195610e+00j,\n",
              "        4.72775974e-01-1.18221126e+00j,  4.85356221e-01-1.20295137e+00j,\n",
              "        4.98300572e-01-1.22419635e+00j,  5.11623746e-01-1.24596718e+00j,\n",
              "        5.25341278e-01-1.26828604e+00j,  5.39469581e-01-1.29117630e+00j,\n",
              "        5.54026007e-01-1.31466269e+00j,  5.69028910e-01-1.33877136e+00j,\n",
              "        5.84497726e-01-1.36352998e+00j,  6.00453052e-01-1.38896787e+00j,\n",
              "        6.16916730e-01-1.41511612e+00j,  6.33911945e-01-1.44200773e+00j,\n",
              "        6.51463332e-01-1.46967773e+00j,  6.69597084e-01-1.49816338e+00j,\n",
              "        6.88341086e-01-1.52750432e+00j,  7.07725045e-01-1.55774280e+00j,\n",
              "        7.27780646e-01-1.58892386e+00j,  7.48541719e-01-1.62109555e+00j,\n",
              "        7.70044420e-01-1.65430928e+00j,  7.92327439e-01-1.68861999e+00j,\n",
              "        8.15432220e-01-1.72408657e+00j,  8.39403215e-01-1.76077215e+00j,\n",
              "        8.64288160e-01-1.79874453e+00j,  8.90138384e-01-1.83807658e+00j,\n",
              "        9.17009149e-01-1.87884678e+00j,  9.44960041e-01-1.92113971e+00j,\n",
              "        9.74055398e-01-1.96504672e+00j,  1.00436479e+00-2.01066654e+00j,\n",
              "        1.03596356e+00-2.05810612e+00j,  1.06893345e+00-2.10748146e+00j,\n",
              "        1.10336328e+00-2.15891860e+00j,  1.13934972e+00-2.21255474e+00j,\n",
              "        1.17699821e+00-2.26853947e+00j,  1.21642395e+00-2.32703626e+00j,\n",
              "        1.25775307e+00-2.38822404e+00j,  1.30112394e+00-2.45229913e+00j,\n",
              "        1.34668871e+00-2.51947737e+00j,  1.39461505e+00-2.58999663e+00j,\n",
              "        1.44508821e+00-2.66411967e+00j,  1.49831336e+00-2.74213753e+00j,\n",
              "        1.55451833e+00-2.82437339e+00j,  1.61395686e+00-2.91118715e+00j,\n",
              "        1.67691238e+00-3.00298082e+00j,  1.74370247e+00-3.10020483e+00j,\n",
              "        1.81468418e+00-3.20336556e+00j,  1.89026032e+00-3.31303436e+00j,\n",
              "        1.97088708e+00-3.42985819e+00j,  2.05708317e+00-3.55457271e+00j,\n",
              "        2.14944088e+00-3.68801790e+00j,  2.24863960e+00-3.83115729e+00j,\n",
              "        2.35546249e+00-3.98510153e+00j,  2.47081704e+00-4.15113760e+00j,\n",
              "        2.59576078e+00-4.33076522e+00j,  2.73153359e+00-4.52574274e+00j,\n",
              "        2.87959884e+00-4.73814539e+00j,  3.04169602e+00-4.97044000e+00j,\n",
              "        3.21990919e+00-5.22558201e+00j,  3.41675670e+00-5.50714272e+00j,\n",
              "        3.63531050e+00-5.81947848e+00j,  3.87935716e+00-6.16795904e+00j,\n",
              "        4.15361847e+00-6.55928034e+00j,  4.46405915e+00-7.00190094e+00j,\n",
              "        4.81832469e+00-7.50666285e+00j,  5.22637818e+00-8.08769461e+00j,\n",
              "        5.70145050e+00-8.76375880e+00j,  6.26149976e+00-9.56032158e+00j,\n",
              "        6.93152959e+00-1.05128402e+01j,  7.74742006e+00-1.16721958e+01j,\n",
              "        8.76256335e+00-1.31141028e+01j,  1.00600325e+01-1.49563660e+01j,\n",
              "        1.17765351e+01-1.73928479e+01j,  1.41540290e+01-2.07666654e+01j,\n",
              "        1.76651559e+01-2.57480635e+01j,  2.33741901e+01-3.38462722e+01j,\n",
              "        3.42844140e+01-4.93201965e+01j,  6.34477042e+01-9.06784860e+01j,\n",
              "        3.90957337e+02-5.55116767e+02j, -9.57321551e+01+1.35047222e+02j,\n",
              "       -4.30036975e+01+6.02715751e+01j, -2.78784413e+01+3.88204086e+01j,\n",
              "       -2.07047342e+01+2.86452069e+01j, -1.65175082e+01+2.27050893e+01j,\n",
              "       -1.37732275e+01+1.88111933e+01j, -1.18357186e+01+1.60613715e+01j,\n",
              "       -1.03948627e+01+1.40158498e+01j, -9.28143227e+00+1.24346494e+01j,\n",
              "       -8.39524052e+00+1.11756968e+01j, -7.67319143e+00+1.01495167e+01j,\n",
              "       -7.07356932e+00+9.29695270e+00j, -6.56769010e+00+8.57732828e+00j,\n",
              "       -6.13518120e+00+7.96175340e+00j, -5.76117448e+00+7.42914374e+00j,\n",
              "       -5.43456483e+00+6.96375127e+00j, -5.14689050e+00+6.55357648e+00j,\n",
              "       -4.89159079e+00+6.18931568e+00j, -4.66350054e+00+5.86364422e+00j,\n",
              "       -4.45849786e+00+5.57071683e+00j, -4.27325334e+00+5.30581208e+00j,\n",
              "       -4.10504834e+00+5.06507469e+00j, -3.95164111e+00+4.84532559e+00j,\n",
              "       -3.81116657e+00+4.64391990e+00j, -3.68206042e+00+4.45863927e+00j,\n",
              "       -3.56300086e+00+4.28760921e+00j, -3.45286332e+00+4.12923493e+00j,\n",
              "       -3.35068502e+00+3.98215111e+00j, -3.25563689e+00+3.84518198e+00j,\n",
              "       -3.16700112e+00+3.71730960e+00j, -3.08415312e+00+3.59764818e+00j,\n",
              "       -3.00654685e+00+3.48542334e+00j, -2.93370286e+00+3.37995514e+00j,\n",
              "       -2.86519842e+00+3.28064407e+00j, -2.80065939e+00+3.18695951e+00j,\n",
              "       -2.73975344e+00+3.09843015e+00j, -2.68218435e+00+3.01463587e+00j,\n",
              "       -2.62768725e+00+2.93520101e+00j, -2.57602457e+00+2.85978864e+00j,\n",
              "       -2.52698261e+00+2.78809567e+00j, -2.48036864e+00+2.71984873e+00j,\n",
              "       -2.43600835e+00+2.65480060e+00j, -2.39374373e+00+2.59272716e+00j,\n",
              "       -2.35343119e+00+2.53342476e+00j, -2.31493999e+00+2.47670792e+00j,\n",
              "       -2.27815078e+00+2.42240736e+00j, -2.24295441e+00+2.37036827e+00j,\n",
              "       -2.20925089e+00+2.32044878e+00j, -2.17694840e+00+2.27251865e+00j,\n",
              "       -2.14596250e+00+2.22645811e+00j, -2.11621542e+00+2.18215680e+00j,\n",
              "       -2.08763537e+00+2.13951289e+00j, -2.06015601e+00+2.09843226e+00j,\n",
              "       -2.03371594e+00+2.05882779e+00j, -2.00825823e+00+2.02061871e+00j,\n",
              "       -1.98373004e+00+1.98373004e+00j, -1.96008225e+00+1.94809208e+00j,\n",
              "       -1.93726913e+00+1.91363995e+00j, -1.91524808e+00+1.88031318e+00j,\n",
              "       -1.89397933e+00+1.84805535e+00j, -1.87342575e+00+1.81681375e+00j,\n",
              "       -1.85355260e+00+1.78653906e+00j, -1.83432734e+00+1.75718513e+00j,\n",
              "       -1.81571950e+00+1.72870868e+00j, -1.79770048e+00+1.70106911e+00j,\n",
              "       -1.78024341e+00+1.67422828e+00j, -1.76332303e+00+1.64815034e+00j,\n",
              "       -1.74691559e+00+1.62280155e+00j, -1.73099870e+00+1.59815014e+00j,\n",
              "       -1.71555126e+00+1.57416613e+00j, -1.70055337e+00+1.55082127e+00j,\n",
              "       -1.68598624e+00+1.52808886e+00j, -1.67183210e+00+1.50594366e+00j,\n",
              "       -1.65807415e+00+1.48436182e+00j, -1.64469650e+00+1.46332075e+00j,\n",
              "       -1.63168407e+00+1.44279905e+00j, -1.61902261e+00+1.42277643e+00j,\n",
              "       -1.60669856e+00+1.40323366e+00j, -1.59469908e+00+1.38415246e+00j,\n",
              "       -1.58301195e+00+1.36551550e+00j, -1.57162557e+00+1.34730626e+00j,\n",
              "       -1.56052891e+00+1.32950907e+00j, -1.54971147e+00+1.31210898e+00j,\n",
              "       -1.53916324e+00+1.29509179e+00j, -1.52887471e+00+1.27844394e+00j,\n",
              "       -1.51883678e+00+1.26215252e+00j, -1.50904079e+00+1.24620519e+00j,\n",
              "       -1.49947848e+00+1.23059019e+00j, -1.49014195e+00+1.21529629e+00j,\n",
              "       -1.48102366e+00+1.20031274e+00j, -1.47211639e+00+1.18562930e+00j,\n",
              "       -1.46341325e+00+1.17123614e+00j, -1.45490765e+00+1.15712386e+00j,\n",
              "       -1.44659326e+00+1.14328346e+00j, -1.43846404e+00+1.12970634e+00j,\n",
              "       -1.43051419e+00+1.11638423e+00j, -1.42273816e+00+1.10330922e+00j,\n",
              "       -1.41513062e+00+1.09047371e+00j, -1.40768646e+00+1.07787042e+00j,\n",
              "       -1.40040076e+00+1.06549234e+00j, -1.39326882e+00+1.05333275e+00j,\n",
              "       -1.38628612e+00+1.04138521e+00j, -1.37944829e+00+1.02964350e+00j,\n",
              "       -1.37275117e+00+1.01810166e+00j, -1.36619073e+00+1.00675394e+00j,\n",
              "       -1.35976311e+00+9.95594822e-01j, -1.35346457e+00+9.84618987e-01j,\n",
              "       -1.34729153e+00+9.73821313e-01j, -1.34124055e+00+9.63196864e-01j,\n",
              "       -1.33530829e+00+9.52740887e-01j, -1.32949156e+00+9.42448795e-01j,\n",
              "       -1.32378725e+00+9.32316169e-01j, -1.31819239e+00+9.22338743e-01j,\n",
              "       -1.31270410e+00+9.12512401e-01j, -1.30731962e+00+9.02833169e-01j,\n",
              "       -1.30203625e+00+8.93297212e-01j, -1.29685142e+00+8.83900823e-01j,\n",
              "       -1.29176262e+00+8.74640422e-01j, -1.28676745e+00+8.65512546e-01j,\n",
              "       -1.28186356e+00+8.56513851e-01j, -1.27704872e+00+8.47641099e-01j,\n",
              "       -1.27232072e+00+8.38891161e-01j, -1.26767748e+00+8.30261007e-01j,\n",
              "       -1.26311693e+00+8.21747704e-01j, -1.25863712e+00+8.13348415e-01j,\n",
              "       -1.25423613e+00+8.05060390e-01j, -1.24991211e+00+7.96880966e-01j,\n",
              "       -1.24566326e+00+7.88807562e-01j, -1.24148786e+00+7.80837677e-01j,\n",
              "       -1.23738421e+00+7.72968887e-01j, -1.23335069e+00+7.65198841e-01j,\n",
              "       -1.22938571e+00+7.57525258e-01j, -1.22548775e+00+7.49945925e-01j,\n",
              "       -1.22165532e+00+7.42458696e-01j, -1.21788698e+00+7.35061487e-01j,\n",
              "       -1.21418132e+00+7.27752274e-01j, -1.21053698e+00+7.20529093e-01j,\n",
              "       -1.20695266e+00+7.13390036e-01j, -1.20342708e+00+7.06333249e-01j,\n",
              "       -1.19995898e+00+6.99356929e-01j, -1.19654716e+00+6.92459326e-01j,\n",
              "       -1.19319045e+00+6.85638739e-01j, -1.18988771e+00+6.78893510e-01j,\n",
              "       -1.18663784e+00+6.72222031e-01j, -1.18343975e+00+6.65622736e-01j,\n",
              "       -1.18029240e+00+6.59094100e-01j, -1.17719478e+00+6.52634642e-01j,\n",
              "       -1.17414589e+00+6.46242917e-01j, -1.17114477e+00+6.39917520e-01j,\n",
              "       -1.16819049e+00+6.33657084e-01j, -1.16528213e+00+6.27460275e-01j,\n",
              "       -1.16241880e+00+6.21325795e-01j, -1.15959965e+00+6.15252380e-01j,\n",
              "       -1.15682384e+00+6.09238796e-01j, -1.15409054e+00+6.03283843e-01j,\n",
              "       -1.15139896e+00+5.97386350e-01j, -1.14874832e+00+5.91545174e-01j,\n",
              "       -1.14613787e+00+5.85759202e-01j, -1.14356687e+00+5.80027347e-01j,\n",
              "       -1.14103460e+00+5.74348551e-01j, -1.13854036e+00+5.68721779e-01j,\n",
              "       -1.13608347e+00+5.63146022e-01j, -1.13366327e+00+5.57620295e-01j,\n",
              "       -1.13127911e+00+5.52143637e-01j, -1.12893035e+00+5.46715109e-01j,\n",
              "       -1.12661638e+00+5.41333795e-01j, -1.12433660e+00+5.35998799e-01j,\n",
              "       -1.12209043e+00+5.30709246e-01j, -1.11987728e+00+5.25464283e-01j,\n",
              "       -1.11769660e+00+5.20263073e-01j, -1.11554785e+00+5.15104800e-01j,\n",
              "       -1.11343049e+00+5.09988668e-01j, -1.11134401e+00+5.04913895e-01j,\n",
              "       -1.10928789e+00+4.99879719e-01j, -1.10726165e+00+4.94885395e-01j,\n",
              "       -1.10526480e+00+4.89930192e-01j, -1.10329687e+00+4.85013397e-01j,\n",
              "       -1.10135740e+00+4.80134312e-01j, -1.09944594e+00+4.75292254e-01j,\n",
              "       -1.09756204e+00+4.70486553e-01j, -1.09570529e+00+4.65716556e-01j,\n",
              "       -1.09387525e+00+4.60981620e-01j, -1.09207152e+00+4.56281119e-01j,\n",
              "       -1.09029370e+00+4.51614438e-01j, -1.08854140e+00+4.46980976e-01j,\n",
              "       -1.08681423e+00+4.42380142e-01j, -1.08511182e+00+4.37811360e-01j,\n",
              "       -1.08343381e+00+4.33274063e-01j, -1.08177983e+00+4.28767696e-01j,\n",
              "       -1.08014954e+00+4.24291716e-01j, -1.07854259e+00+4.19845590e-01j,\n",
              "       -1.07695865e+00+4.15428795e-01j, -1.07539740e+00+4.11040819e-01j,\n",
              "       -1.07385851e+00+4.06681161e-01j, -1.07234167e+00+4.02349326e-01j,\n",
              "       -1.07084657e+00+3.98044832e-01j, -1.06937292e+00+3.93767204e-01j,\n",
              "       -1.06792042e+00+3.89515976e-01j, -1.06648878e+00+3.85290694e-01j,\n",
              "       -1.06507773e+00+3.81090907e-01j, -1.06368699e+00+3.76916176e-01j,\n",
              "       -1.06231629e+00+3.72766068e-01j, -1.06096537e+00+3.68640161e-01j,\n",
              "       -1.05963398e+00+3.64538037e-01j, -1.05832185e+00+3.60459287e-01j,\n",
              "       -1.05702874e+00+3.56403508e-01j, -1.05575442e+00+3.52370308e-01j,\n",
              "       -1.05449864e+00+3.48359296e-01j, -1.05326118e+00+3.44370092e-01j,\n",
              "       -1.05204180e+00+3.40402322e-01j, -1.05084030e+00+3.36455616e-01j,\n",
              "       -1.04965644e+00+3.32529614e-01j, -1.04849002e+00+3.28623957e-01j,\n",
              "       -1.04734083e+00+3.24738298e-01j, -1.04620867e+00+3.20872290e-01j,\n",
              "       -1.04509333e+00+3.17025596e-01j, -1.04399463e+00+3.13197882e-01j,\n",
              "       -1.04291236e+00+3.09388820e-01j, -1.04184635e+00+3.05598088e-01j,\n",
              "       -1.04079642e+00+3.01825367e-01j, -1.03976237e+00+2.98070346e-01j,\n",
              "       -1.03874403e+00+2.94332717e-01j, -1.03774124e+00+2.90612175e-01j,\n",
              "       -1.03675383e+00+2.86908425e-01j, -1.03578162e+00+2.83221170e-01j,\n",
              "       -1.03482447e+00+2.79550122e-01j, -1.03388220e+00+2.75894996e-01j,\n",
              "       -1.03295467e+00+2.72255511e-01j, -1.03204172e+00+2.68631389e-01j,\n",
              "       -1.03114321e+00+2.65022359e-01j, -1.03025898e+00+2.61428150e-01j,\n",
              "       -1.02938891e+00+2.57848498e-01j, -1.02853284e+00+2.54283142e-01j,\n",
              "       -1.02769064e+00+2.50731823e-01j, -1.02686218e+00+2.47194287e-01j,\n",
              "       -1.02604733e+00+2.43670284e-01j, -1.02524595e+00+2.40159566e-01j,\n",
              "       -1.02445793e+00+2.36661889e-01j, -1.02368314e+00+2.33177012e-01j,\n",
              "       -1.02292146e+00+2.29704696e-01j, -1.02217278e+00+2.26244709e-01j,\n",
              "       -1.02143697e+00+2.22796816e-01j, -1.02071393e+00+2.19360791e-01j,\n",
              "       -1.02000354e+00+2.15936406e-01j, -1.01930570e+00+2.12523440e-01j,\n",
              "       -1.01862031e+00+2.09121670e-01j, -1.01794725e+00+2.05730879e-01j,\n",
              "       -1.01728643e+00+2.02350853e-01j, -1.01663775e+00+1.98981377e-01j,\n",
              "       -1.01600112e+00+1.95622243e-01j, -1.01537643e+00+1.92273241e-01j,\n",
              "       -1.01476361e+00+1.88934167e-01j, -1.01416255e+00+1.85604818e-01j,\n",
              "       -1.01357316e+00+1.82284991e-01j, -1.01299538e+00+1.78974488e-01j,\n",
              "       -1.01242910e+00+1.75673113e-01j, -1.01187425e+00+1.72380670e-01j,\n",
              "       -1.01133074e+00+1.69096967e-01j, -1.01079850e+00+1.65821814e-01j,\n",
              "       -1.01027746e+00+1.62555020e-01j, -1.00976754e+00+1.59296400e-01j,\n",
              "       -1.00926866e+00+1.56045767e-01j, -1.00878075e+00+1.52802939e-01j,\n",
              "       -1.00830376e+00+1.49567733e-01j, -1.00783759e+00+1.46339970e-01j,\n",
              "       -1.00738221e+00+1.43119471e-01j, -1.00693753e+00+1.39906059e-01j,\n",
              "       -1.00650349e+00+1.36699559e-01j, -1.00608005e+00+1.33499797e-01j,\n",
              "       -1.00566713e+00+1.30306600e-01j, -1.00526468e+00+1.27119797e-01j,\n",
              "       -1.00487264e+00+1.23939219e-01j, -1.00449097e+00+1.20764697e-01j,\n",
              "       -1.00411960e+00+1.17596065e-01j, -1.00375848e+00+1.14433155e-01j,\n",
              "       -1.00340758e+00+1.11275805e-01j, -1.00306683e+00+1.08123849e-01j,\n",
              "       -1.00273619e+00+1.04977126e-01j, -1.00241562e+00+1.01835475e-01j,\n",
              "       -1.00210508e+00+9.86987352e-02j, -1.00180451e+00+9.55667474e-02j,\n",
              "       -1.00151389e+00+9.24393536e-02j, -1.00123316e+00+8.93163965e-02j,\n",
              "       -1.00096230e+00+8.61977196e-02j, -1.00070127e+00+8.30831677e-02j,\n",
              "       -1.00045003e+00+7.99725860e-02j, -1.00020854e+00+7.68658208e-02j,\n",
              "       -9.99976783e-01+7.37627189e-02j, -9.99754719e-01+7.06631282e-02j,\n",
              "       -9.99542319e-01+6.75668971e-02j, -9.99339556e-01+6.44738747e-02j,\n",
              "       -9.99146403e-01+6.13839107e-02j, -9.98962833e-01+5.82968555e-02j,\n",
              "       -9.98788822e-01+5.52125602e-02j, -9.98624348e-01+5.21308762e-02j,\n",
              "       -9.98469388e-01+4.90516556e-02j, -9.98323922e-01+4.59747510e-02j,\n",
              "       -9.98187930e-01+4.29000153e-02j, -9.98061395e-01+3.98273020e-02j,\n",
              "       -9.97944299e-01+3.67564651e-02j, -9.97836628e-01+3.36873586e-02j,\n",
              "       -9.97738367e-01+3.06198372e-02j, -9.97649504e-01+2.75537558e-02j,\n",
              "       -9.97570025e-01+2.44889696e-02j, -9.97499922e-01+2.14253340e-02j,\n",
              "       -9.97439184e-01+1.83627046e-02j, -9.97387805e-01+1.53009375e-02j,\n",
              "       -9.97345776e-01+1.22398885e-02j, -9.97313092e-01+9.17941394e-03j,\n",
              "       -9.97289750e-01+6.11937006e-03j, -9.97275746e-01+3.05961327e-03j,\n",
              "       -9.97271078e-01+0.00000000e+00j])"
            ]
          },
          "metadata": {},
          "execution_count": 44
        }
      ]
    },
    {
      "cell_type": "code",
      "source": [
        ""
      ],
      "metadata": {
        "id": "bquIzgFK8QsZ"
      },
      "execution_count": null,
      "outputs": []
    }
  ]
}