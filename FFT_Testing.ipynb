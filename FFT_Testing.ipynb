{
  "nbformat": 4,
  "nbformat_minor": 0,
  "metadata": {
    "colab": {
      "name": "FFT_Testing.ipynb",
      "provenance": [],
      "authorship_tag": "ABX9TyPKCnUT8xPryDaBVhDN/VyM",
      "include_colab_link": true
    },
    "kernelspec": {
      "name": "python3",
      "display_name": "Python 3"
    },
    "language_info": {
      "name": "python"
    }
  },
  "cells": [
    {
      "cell_type": "markdown",
      "metadata": {
        "id": "view-in-github",
        "colab_type": "text"
      },
      "source": [
        "<a href=\"https://colab.research.google.com/github/joaochenriques/FFT_Testing/blob/main/FFT_Testing.ipynb\" target=\"_parent\"><img src=\"https://colab.research.google.com/assets/colab-badge.svg\" alt=\"Open In Colab\"/></a>"
      ]
    },
    {
      "cell_type": "code",
      "execution_count": 1,
      "metadata": {
        "id": "GVzmtrgSxAuu"
      },
      "outputs": [],
      "source": [
        "import numpy as np\n",
        "import matplotlib.pyplot as mpl"
      ]
    },
    {
      "cell_type": "code",
      "source": [
        "# If running python on Windows operating system, copy the file:\n",
        "# https://raw.githubusercontent.com/joaochenriques/ipynb_libs/main/mpl_utils.py\n",
        "# to the working folder before running the notebook\n",
        "\n",
        "import pathlib\n",
        "if not pathlib.Path(\"mpl_utils.py\").exists():\n",
        "  !curl -O https://raw.githubusercontent.com/joaochenriques/ipynb_libs/main/mpl_utils.py \n",
        "\n",
        "import mpl_utils as mut\n",
        "mut.config_plots()\n",
        "\n",
        "%config InlineBackend.figure_formats = ['svg']\n",
        "mpl.rcParams[\"figure.figsize\"] = (6,4.5)"
      ],
      "metadata": {
        "colab": {
          "base_uri": "https://localhost:8080/"
        },
        "id": "OLSZlNCWzu4f",
        "outputId": "8c11cbdc-220e-4684-f574-88f3bed22fa0"
      },
      "execution_count": 2,
      "outputs": [
        {
          "output_type": "stream",
          "name": "stdout",
          "text": [
            "  % Total    % Received % Xferd  Average Speed   Time    Time     Time  Current\n",
            "                                 Dload  Upload   Total   Spent    Left  Speed\n",
            "\r  0     0    0     0    0     0      0      0 --:--:-- --:--:-- --:--:--     0\r100  3483  100  3483    0     0  15831      0 --:--:-- --:--:-- --:--:-- 15831\n"
          ]
        }
      ]
    },
    {
      "cell_type": "code",
      "source": [
        "f = 2.0\n",
        "ω = 2.0 * np.pi * f \n",
        "t = np.linspace( 0, 100, 1024 )\n",
        "y = np.sin( ω * t  )"
      ],
      "metadata": {
        "id": "-0yjAgT_xHbJ"
      },
      "execution_count": 3,
      "outputs": []
    },
    {
      "cell_type": "code",
      "source": [
        "nFFT = 1024\n",
        "\n",
        "fsample = 1.0 / ( t[1] - t[0] )\n",
        "delta_f = fsample / nFFT\n",
        "\n",
        "fd_time = np.arange( nFFT ) / fsample\n",
        "fd_data = np.copy( y[-nFFT:] )  "
      ],
      "metadata": {
        "id": "bi_qbRrUxXvl"
      },
      "execution_count": 14,
      "outputs": []
    },
    {
      "cell_type": "code",
      "source": [
        "freqs = np.fft.fftfreq( n = nFFT, d = 1.0 / fsample )   # FFT frequencies\n",
        "Amps = np.fft.fft( fd_data )                            # FFT complex amplitudes\n",
        "\n",
        "Spec_Af  = 2.0 * np.abs( Amps ) / nFFT                  # abs amplitudes \n",
        "Spec_Var = 0.5 * Spec_Af**2                             # Variance spectrum\n",
        "Spec_Sf  = Spec_Var / delta_f                           # Spectral density\n",
        "\n",
        "Spec_A_mean = np.sqrt( sum( Spec_Sf ) * delta_f )       # mean Amplitude\n",
        "\n",
        "mpl.plot( freqs, Amps )\n",
        "\n",
        "Spec_A_mean"
      ],
      "metadata": {
        "id": "eXjQ0YF_xYa9",
        "outputId": "01547de7-09f5-4d0e-f3c1-0560009201d8",
        "colab": {
          "base_uri": "https://localhost:8080/",
          "height": 473
        }
      },
      "execution_count": 40,
      "outputs": [
        {
          "output_type": "stream",
          "name": "stderr",
          "text": [
            "/usr/local/lib/python3.7/dist-packages/matplotlib/cbook/__init__.py:1317: ComplexWarning: Casting complex values to real discards the imaginary part\n",
            "  return np.asarray(x, float)\n"
          ]
        },
        {
          "output_type": "execute_result",
          "data": {
            "text/plain": [
              "0.999511599482467"
            ]
          },
          "metadata": {},
          "execution_count": 40
        },
        {
          "output_type": "display_data",
          "data": {
            "text/plain": [
              "<Figure size 1680x1260 with 1 Axes>"
            ],
            "image/svg+xml": "<?xml version=\"1.0\" encoding=\"utf-8\" standalone=\"no\"?>\n<!DOCTYPE svg PUBLIC \"-//W3C//DTD SVG 1.1//EN\"\n  \"http://www.w3.org/Graphics/SVG/1.1/DTD/svg11.dtd\">\n<!-- Created with matplotlib (https://matplotlib.org/) -->\n<svg height=\"300.28pt\" version=\"1.1\" viewBox=\"0 0 407.704 300.28\" width=\"407.704pt\" xmlns=\"http://www.w3.org/2000/svg\" xmlns:xlink=\"http://www.w3.org/1999/xlink\">\n <defs>\n  <style type=\"text/css\">\n*{stroke-linecap:butt;stroke-linejoin:round;}\n  </style>\n </defs>\n <g id=\"figure_1\">\n  <g id=\"patch_1\">\n   <path d=\"M 0 300.28 \nL 407.704 300.28 \nL 407.704 0 \nL 0 0 \nz\n\" style=\"fill:#ffffff;\"/>\n  </g>\n  <g id=\"axes_1\">\n   <g id=\"patch_2\">\n    <path d=\"M 42.664 276.12 \nL 396.904 276.12 \nL 396.904 13.68 \nL 42.664 13.68 \nz\n\" style=\"fill:#ffffff;\"/>\n   </g>\n   <g id=\"line2d_1\">\n    <path clip-path=\"url(#pde14e24b8a)\" d=\"M 219.784 210.51 \nL 248.685348 210.399117 \nL 261.366552 210.162727 \nL 267.264787 209.862992 \nL 270.508816 209.512804 \nL 272.573198 209.098858 \nL 274.047756 208.583 \nL 274.932491 208.085312 \nL 275.817227 207.294236 \nL 276.40705 206.44476 \nL 276.996873 205.04648 \nL 277.291785 203.943482 \nL 277.586697 202.314555 \nL 277.881609 199.665947 \nL 278.17652 194.604337 \nL 278.471432 181.074532 \nL 278.766344 29.132084 \nL 279.061255 254.923283 \nL 279.356167 230.460824 \nL 279.651079 223.443722 \nL 279.945991 220.115604 \nL 280.535814 216.899851 \nL 281.125637 215.332517 \nL 281.715461 214.404827 \nL 282.600196 213.556967 \nL 283.484931 213.031273 \nL 284.664578 212.578443 \nL 286.434048 212.162993 \nL 289.088254 211.809318 \nL 293.217018 211.519958 \nL 300.294899 211.285618 \nL 313.565927 211.109291 \nL 342.172363 210.99537 \nL 370.483888 210.972669 \nL 68.7892 210.972667 \nL 122.168221 211.082192 \nL 140.157836 211.3059 \nL 147.825541 211.601834 \nL 151.659393 211.94084 \nL 154.018687 212.343296 \nL 155.493245 212.779369 \nL 156.672892 213.356312 \nL 157.557627 214.069845 \nL 158.147451 214.81596 \nL 158.737274 216.000978 \nL 159.032186 216.899851 \nL 159.327098 218.173013 \nL 159.622009 220.115604 \nL 159.916921 223.443722 \nL 160.211833 230.460824 \nL 160.506745 254.923283 \nL 160.801656 29.132084 \nL 161.096568 181.074532 \nL 161.39148 194.604337 \nL 161.686391 199.665947 \nL 161.981303 202.314555 \nL 162.571127 205.04648 \nL 163.16095 206.44476 \nL 163.750773 207.294236 \nL 164.635509 208.085312 \nL 165.520244 208.583 \nL 166.994802 209.098858 \nL 169.059184 209.512804 \nL 172.008302 209.839576 \nL 176.726889 210.109028 \nL 184.984417 210.322475 \nL 200.614738 210.468596 \nL 219.489088 210.509991 \nL 219.489088 210.509991 \n\" style=\"fill:none;stroke:#1f77b4;stroke-dasharray:6,0;stroke-dashoffset:0;stroke-width:1.5;\"/>\n   </g>\n   <g id=\"patch_3\">\n    <path d=\"M 42.664 276.12 \nL 42.664 13.68 \n\" style=\"fill:none;stroke:#000000;stroke-linecap:square;stroke-linejoin:miter;\"/>\n   </g>\n   <g id=\"patch_4\">\n    <path d=\"M 396.904 276.12 \nL 396.904 13.68 \n\" style=\"fill:none;stroke:#000000;stroke-linecap:square;stroke-linejoin:miter;\"/>\n   </g>\n   <g id=\"patch_5\">\n    <path d=\"M 42.664 276.12 \nL 396.904 276.12 \n\" style=\"fill:none;stroke:#000000;stroke-linecap:square;stroke-linejoin:miter;\"/>\n   </g>\n   <g id=\"patch_6\">\n    <path d=\"M 42.664 13.68 \nL 396.904 13.68 \n\" style=\"fill:none;stroke:#000000;stroke-linecap:square;stroke-linejoin:miter;\"/>\n   </g>\n   <g id=\"matplotlib.axis_1\">\n    <g id=\"xtick_1\">\n     <g id=\"line2d_2\">\n      <defs>\n       <path d=\"M 0 0 \nL 0 -4 \n\" id=\"m2502780672\" style=\"stroke:#000000;stroke-width:0.5;\"/>\n      </defs>\n      <g>\n       <use style=\"stroke:#000000;stroke-width:0.5;\" x=\"42.664\" xlink:href=\"#m2502780672\" y=\"276.12\"/>\n      </g>\n     </g>\n     <g id=\"line2d_3\">\n      <defs>\n       <path d=\"M 0 0 \nL 0 4 \n\" id=\"md4782d122f\" style=\"stroke:#000000;stroke-width:0.5;\"/>\n      </defs>\n      <g>\n       <use style=\"stroke:#000000;stroke-width:0.5;\" x=\"42.664\" xlink:href=\"#md4782d122f\" y=\"13.68\"/>\n      </g>\n     </g>\n     <g id=\"text_1\">\n      <!-- −6 -->\n      <defs>\n       <path d=\"M 62.09375 22 \nL 6.40625 22 \nL 6.40625 28.59375 \nL 62.09375 28.59375 \nz\n\" id=\"STIXGeneral-Regular-8722\"/>\n       <path d=\"M 44.59375 68.40625 \nL 44.796875 66.796875 \nQ 33 64.90625 25.09375 57.25 \nQ 17.203125 49.59375 15.203125 38.296875 \nQ 21 42.796875 27.90625 42.796875 \nQ 36.703125 42.796875 41.75 37.1875 \nQ 46.796875 31.59375 46.796875 21.90625 \nQ 46.796875 12.09375 41.703125 5.90625 \nQ 35.796875 -1.40625 25.796875 -1.40625 \nQ 13.59375 -1.40625 8.09375 8.703125 \nQ 3.40625 17.296875 3.40625 27.90625 \nQ 3.40625 44.296875 14.296875 55.5 \nQ 20.5 61.90625 27.046875 64.546875 \nQ 33.59375 67.203125 44.59375 68.40625 \nz\nM 37.796875 18.796875 \nQ 37.796875 38.203125 24.296875 38.203125 \nQ 19.296875 38.203125 16 35.546875 \nQ 12.703125 32.90625 12.703125 26.59375 \nQ 12.703125 14.90625 16.34375 8.15625 \nQ 20 1.40625 26.90625 1.40625 \nQ 32.203125 1.40625 35 6.15625 \nQ 37.796875 10.90625 37.796875 18.796875 \nz\n\" id=\"STIXGeneral-Regular-54\"/>\n      </defs>\n      <g transform=\"translate(34.132 289.95475)scale(0.144 -0.144)\">\n       <use xlink:href=\"#STIXGeneral-Regular-8722\"/>\n       <use x=\"68.499985\" xlink:href=\"#STIXGeneral-Regular-54\"/>\n      </g>\n     </g>\n    </g>\n    <g id=\"xtick_2\">\n     <g id=\"line2d_4\">\n      <g>\n       <use style=\"stroke:#000000;stroke-width:0.5;\" x=\"101.704\" xlink:href=\"#m2502780672\" y=\"276.12\"/>\n      </g>\n     </g>\n     <g id=\"line2d_5\">\n      <g>\n       <use style=\"stroke:#000000;stroke-width:0.5;\" x=\"101.704\" xlink:href=\"#md4782d122f\" y=\"13.68\"/>\n      </g>\n     </g>\n     <g id=\"text_2\">\n      <!-- −4 -->\n      <defs>\n       <path d=\"M 47.296875 16.703125 \nL 37 16.703125 \nL 37 0 \nL 29.203125 0 \nL 29.203125 16.703125 \nL 1.203125 16.703125 \nL 1.203125 23.09375 \nL 32.59375 67.59375 \nL 37 67.59375 \nL 37 23.09375 \nL 47.296875 23.09375 \nz\nM 29.203125 23.09375 \nL 29.203125 57.40625 \nL 5.203125 23.09375 \nz\n\" id=\"STIXGeneral-Regular-52\"/>\n      </defs>\n      <g transform=\"translate(93.172 289.95475)scale(0.144 -0.144)\">\n       <use xlink:href=\"#STIXGeneral-Regular-8722\"/>\n       <use x=\"68.499985\" xlink:href=\"#STIXGeneral-Regular-52\"/>\n      </g>\n     </g>\n    </g>\n    <g id=\"xtick_3\">\n     <g id=\"line2d_6\">\n      <g>\n       <use style=\"stroke:#000000;stroke-width:0.5;\" x=\"160.744\" xlink:href=\"#m2502780672\" y=\"276.12\"/>\n      </g>\n     </g>\n     <g id=\"line2d_7\">\n      <g>\n       <use style=\"stroke:#000000;stroke-width:0.5;\" x=\"160.744\" xlink:href=\"#md4782d122f\" y=\"13.68\"/>\n      </g>\n     </g>\n     <g id=\"text_3\">\n      <!-- −2 -->\n      <defs>\n       <path d=\"M 47.40625 13.703125 \nL 42 0 \nL 2.90625 0 \nL 2.90625 1.203125 \nL 20.703125 20.09375 \nQ 27.703125 27.40625 30.703125 33.5 \nQ 33.703125 39.59375 33.703125 46.09375 \nQ 33.703125 52.796875 30 56.5 \nQ 26.296875 60.203125 19.796875 60.203125 \nQ 14.40625 60.203125 11.25 57.390625 \nQ 8.09375 54.59375 5.09375 47.203125 \nL 3 47.703125 \nQ 4.703125 57 9.84375 62.296875 \nQ 15 67.59375 23.796875 67.59375 \nQ 32.09375 67.59375 37.1875 62.59375 \nQ 42.296875 57.59375 42.296875 50 \nQ 42.296875 38.703125 29.5 25.203125 \nL 13 7.59375 \nL 36.40625 7.59375 \nQ 39.703125 7.59375 41.640625 8.890625 \nQ 43.59375 10.203125 46 14.296875 \nz\n\" id=\"STIXGeneral-Regular-50\"/>\n      </defs>\n      <g transform=\"translate(152.212 289.95475)scale(0.144 -0.144)\">\n       <use xlink:href=\"#STIXGeneral-Regular-8722\"/>\n       <use x=\"68.499985\" xlink:href=\"#STIXGeneral-Regular-50\"/>\n      </g>\n     </g>\n    </g>\n    <g id=\"xtick_4\">\n     <g id=\"line2d_8\">\n      <g>\n       <use style=\"stroke:#000000;stroke-width:0.5;\" x=\"219.784\" xlink:href=\"#m2502780672\" y=\"276.12\"/>\n      </g>\n     </g>\n     <g id=\"line2d_9\">\n      <g>\n       <use style=\"stroke:#000000;stroke-width:0.5;\" x=\"219.784\" xlink:href=\"#md4782d122f\" y=\"13.68\"/>\n      </g>\n     </g>\n     <g id=\"text_4\">\n      <!-- 0 -->\n      <defs>\n       <path d=\"M 47.59375 33 \nQ 47.59375 26.296875 46.296875 20.34375 \nQ 45 14.40625 42.453125 9.40625 \nQ 39.90625 4.40625 35.40625 1.5 \nQ 30.90625 -1.40625 25 -1.40625 \nQ 18.90625 -1.40625 14.296875 1.6875 \nQ 9.703125 4.796875 7.203125 10 \nQ 4.703125 15.203125 3.546875 21.09375 \nQ 2.40625 27 2.40625 33.59375 \nQ 2.40625 42.90625 4.703125 50.34375 \nQ 7 57.796875 12.34375 62.6875 \nQ 17.703125 67.59375 25.40625 67.59375 \nQ 35.203125 67.59375 41.390625 58 \nQ 47.59375 48.40625 47.59375 33 \nz\nM 38 32.5 \nQ 38 48.296875 34.640625 56.640625 \nQ 31.296875 65 24.796875 65 \nQ 18.59375 65 15.296875 56.59375 \nQ 12 48.203125 12 32.90625 \nQ 12 17.5 15.296875 9.34375 \nQ 18.59375 1.203125 25 1.203125 \nQ 31.296875 1.203125 34.640625 9.34375 \nQ 38 17.5 38 32.5 \nz\n\" id=\"STIXGeneral-Regular-48\"/>\n      </defs>\n      <g transform=\"translate(216.184 289.95475)scale(0.144 -0.144)\">\n       <use xlink:href=\"#STIXGeneral-Regular-48\"/>\n      </g>\n     </g>\n    </g>\n    <g id=\"xtick_5\">\n     <g id=\"line2d_10\">\n      <g>\n       <use style=\"stroke:#000000;stroke-width:0.5;\" x=\"278.824\" xlink:href=\"#m2502780672\" y=\"276.12\"/>\n      </g>\n     </g>\n     <g id=\"line2d_11\">\n      <g>\n       <use style=\"stroke:#000000;stroke-width:0.5;\" x=\"278.824\" xlink:href=\"#md4782d122f\" y=\"13.68\"/>\n      </g>\n     </g>\n     <g id=\"text_5\">\n      <!-- 2 -->\n      <g transform=\"translate(275.224 289.95475)scale(0.144 -0.144)\">\n       <use xlink:href=\"#STIXGeneral-Regular-50\"/>\n      </g>\n     </g>\n    </g>\n    <g id=\"xtick_6\">\n     <g id=\"line2d_12\">\n      <g>\n       <use style=\"stroke:#000000;stroke-width:0.5;\" x=\"337.864\" xlink:href=\"#m2502780672\" y=\"276.12\"/>\n      </g>\n     </g>\n     <g id=\"line2d_13\">\n      <g>\n       <use style=\"stroke:#000000;stroke-width:0.5;\" x=\"337.864\" xlink:href=\"#md4782d122f\" y=\"13.68\"/>\n      </g>\n     </g>\n     <g id=\"text_6\">\n      <!-- 4 -->\n      <g transform=\"translate(334.264 289.95475)scale(0.144 -0.144)\">\n       <use xlink:href=\"#STIXGeneral-Regular-52\"/>\n      </g>\n     </g>\n    </g>\n    <g id=\"xtick_7\">\n     <g id=\"line2d_14\">\n      <g>\n       <use style=\"stroke:#000000;stroke-width:0.5;\" x=\"396.904\" xlink:href=\"#m2502780672\" y=\"276.12\"/>\n      </g>\n     </g>\n     <g id=\"line2d_15\">\n      <g>\n       <use style=\"stroke:#000000;stroke-width:0.5;\" x=\"396.904\" xlink:href=\"#md4782d122f\" y=\"13.68\"/>\n      </g>\n     </g>\n     <g id=\"text_7\">\n      <!-- 6 -->\n      <g transform=\"translate(393.304 289.95475)scale(0.144 -0.144)\">\n       <use xlink:href=\"#STIXGeneral-Regular-54\"/>\n      </g>\n     </g>\n    </g>\n   </g>\n   <g id=\"matplotlib.axis_2\">\n    <g id=\"ytick_1\">\n     <g id=\"line2d_16\">\n      <defs>\n       <path d=\"M 0 0 \nL 4 0 \n\" id=\"m7e8eb6cc00\" style=\"stroke:#000000;stroke-width:0.5;\"/>\n      </defs>\n      <g>\n       <use style=\"stroke:#000000;stroke-width:0.5;\" x=\"42.664\" xlink:href=\"#m7e8eb6cc00\" y=\"276.12\"/>\n      </g>\n     </g>\n     <g id=\"line2d_17\">\n      <defs>\n       <path d=\"M 0 0 \nL -4 0 \n\" id=\"m0a0d3e6f2e\" style=\"stroke:#000000;stroke-width:0.5;\"/>\n      </defs>\n      <g>\n       <use style=\"stroke:#000000;stroke-width:0.5;\" x=\"396.904\" xlink:href=\"#m0a0d3e6f2e\" y=\"276.12\"/>\n      </g>\n     </g>\n     <g id=\"text_8\">\n      <!-- −100 -->\n      <defs>\n       <path d=\"M 39.40625 0 \nL 11.796875 0 \nL 11.796875 1.5 \nQ 17.296875 1.796875 19.296875 3.546875 \nQ 21.296875 5.296875 21.296875 9.5 \nL 21.296875 54.40625 \nQ 21.296875 59.296875 18.296875 59.296875 \nQ 16.90625 59.296875 13.796875 58.09375 \nL 11.09375 57.09375 \nL 11.09375 58.5 \nL 29 67.59375 \nL 29.90625 67.296875 \nL 29.90625 7.59375 \nQ 29.90625 4.296875 31.90625 2.890625 \nQ 33.90625 1.5 39.40625 1.5 \nz\n\" id=\"STIXGeneral-Regular-49\"/>\n      </defs>\n      <g transform=\"translate(7.2 279.47475)scale(0.144 -0.144)\">\n       <use xlink:href=\"#STIXGeneral-Regular-8722\"/>\n       <use x=\"68.499985\" xlink:href=\"#STIXGeneral-Regular-49\"/>\n       <use x=\"118.499969\" xlink:href=\"#STIXGeneral-Regular-48\"/>\n       <use x=\"168.499954\" xlink:href=\"#STIXGeneral-Regular-48\"/>\n      </g>\n     </g>\n    </g>\n    <g id=\"ytick_2\">\n     <g id=\"line2d_18\">\n      <g>\n       <use style=\"stroke:#000000;stroke-width:0.5;\" x=\"42.664\" xlink:href=\"#m7e8eb6cc00\" y=\"243.315\"/>\n      </g>\n     </g>\n     <g id=\"line2d_19\">\n      <g>\n       <use style=\"stroke:#000000;stroke-width:0.5;\" x=\"396.904\" xlink:href=\"#m0a0d3e6f2e\" y=\"243.315\"/>\n      </g>\n     </g>\n     <g id=\"text_9\">\n      <!-- −50 -->\n      <defs>\n       <path d=\"M 43.796875 68.09375 \nL 40.203125 59.59375 \nQ 39.59375 58.296875 37.5 58.296875 \nL 18.09375 58.296875 \nL 14.09375 49.796875 \nQ 25.09375 47.703125 30 45.25 \nQ 34.90625 42.796875 39.09375 37 \nQ 42.59375 32.203125 42.59375 24.296875 \nQ 42.59375 17.09375 40.25 12.1875 \nQ 37.90625 7.296875 32.796875 3.5 \nQ 26 -1.40625 15.796875 -1.40625 \nQ 10.09375 -1.40625 6.59375 0.296875 \nQ 3.09375 2 3.09375 4.796875 \nQ 3.09375 8.59375 7.59375 8.59375 \nQ 11.203125 8.59375 15 5.5 \nQ 18.90625 2.296875 22.09375 2.296875 \nQ 27.296875 2.296875 31.4375 7.5 \nQ 35.59375 12.703125 35.59375 19.203125 \nQ 35.59375 28.796875 28.90625 34.203125 \nQ 20.203125 41.203125 7.59375 41.203125 \nQ 6.40625 41.203125 6.40625 42 \nL 6.5 42.5 \nL 17.40625 66.203125 \nL 38.09375 66.203125 \nQ 39.796875 66.203125 40.75 66.703125 \nQ 41.703125 67.203125 42.90625 68.796875 \nz\n\" id=\"STIXGeneral-Regular-53\"/>\n      </defs>\n      <g transform=\"translate(14.4 246.66975)scale(0.144 -0.144)\">\n       <use xlink:href=\"#STIXGeneral-Regular-8722\"/>\n       <use x=\"68.499985\" xlink:href=\"#STIXGeneral-Regular-53\"/>\n       <use x=\"118.499969\" xlink:href=\"#STIXGeneral-Regular-48\"/>\n      </g>\n     </g>\n    </g>\n    <g id=\"ytick_3\">\n     <g id=\"line2d_20\">\n      <g>\n       <use style=\"stroke:#000000;stroke-width:0.5;\" x=\"42.664\" xlink:href=\"#m7e8eb6cc00\" y=\"210.51\"/>\n      </g>\n     </g>\n     <g id=\"line2d_21\">\n      <g>\n       <use style=\"stroke:#000000;stroke-width:0.5;\" x=\"396.904\" xlink:href=\"#m0a0d3e6f2e\" y=\"210.51\"/>\n      </g>\n     </g>\n     <g id=\"text_10\">\n      <!-- 0 -->\n      <g transform=\"translate(31.464 213.86475)scale(0.144 -0.144)\">\n       <use xlink:href=\"#STIXGeneral-Regular-48\"/>\n      </g>\n     </g>\n    </g>\n    <g id=\"ytick_4\">\n     <g id=\"line2d_22\">\n      <g>\n       <use style=\"stroke:#000000;stroke-width:0.5;\" x=\"42.664\" xlink:href=\"#m7e8eb6cc00\" y=\"177.705\"/>\n      </g>\n     </g>\n     <g id=\"line2d_23\">\n      <g>\n       <use style=\"stroke:#000000;stroke-width:0.5;\" x=\"396.904\" xlink:href=\"#m0a0d3e6f2e\" y=\"177.705\"/>\n      </g>\n     </g>\n     <g id=\"text_11\">\n      <!-- 50 -->\n      <g transform=\"translate(24.264 181.05975)scale(0.144 -0.144)\">\n       <use xlink:href=\"#STIXGeneral-Regular-53\"/>\n       <use x=\"49.999985\" xlink:href=\"#STIXGeneral-Regular-48\"/>\n      </g>\n     </g>\n    </g>\n    <g id=\"ytick_5\">\n     <g id=\"line2d_24\">\n      <g>\n       <use style=\"stroke:#000000;stroke-width:0.5;\" x=\"42.664\" xlink:href=\"#m7e8eb6cc00\" y=\"144.9\"/>\n      </g>\n     </g>\n     <g id=\"line2d_25\">\n      <g>\n       <use style=\"stroke:#000000;stroke-width:0.5;\" x=\"396.904\" xlink:href=\"#m0a0d3e6f2e\" y=\"144.9\"/>\n      </g>\n     </g>\n     <g id=\"text_12\">\n      <!-- 100 -->\n      <g transform=\"translate(17.064 148.25475)scale(0.144 -0.144)\">\n       <use xlink:href=\"#STIXGeneral-Regular-49\"/>\n       <use x=\"49.999985\" xlink:href=\"#STIXGeneral-Regular-48\"/>\n       <use x=\"99.999969\" xlink:href=\"#STIXGeneral-Regular-48\"/>\n      </g>\n     </g>\n    </g>\n    <g id=\"ytick_6\">\n     <g id=\"line2d_26\">\n      <g>\n       <use style=\"stroke:#000000;stroke-width:0.5;\" x=\"42.664\" xlink:href=\"#m7e8eb6cc00\" y=\"112.095\"/>\n      </g>\n     </g>\n     <g id=\"line2d_27\">\n      <g>\n       <use style=\"stroke:#000000;stroke-width:0.5;\" x=\"396.904\" xlink:href=\"#m0a0d3e6f2e\" y=\"112.095\"/>\n      </g>\n     </g>\n     <g id=\"text_13\">\n      <!-- 150 -->\n      <g transform=\"translate(17.064 115.44975)scale(0.144 -0.144)\">\n       <use xlink:href=\"#STIXGeneral-Regular-49\"/>\n       <use x=\"49.999985\" xlink:href=\"#STIXGeneral-Regular-53\"/>\n       <use x=\"99.999969\" xlink:href=\"#STIXGeneral-Regular-48\"/>\n      </g>\n     </g>\n    </g>\n    <g id=\"ytick_7\">\n     <g id=\"line2d_28\">\n      <g>\n       <use style=\"stroke:#000000;stroke-width:0.5;\" x=\"42.664\" xlink:href=\"#m7e8eb6cc00\" y=\"79.29\"/>\n      </g>\n     </g>\n     <g id=\"line2d_29\">\n      <g>\n       <use style=\"stroke:#000000;stroke-width:0.5;\" x=\"396.904\" xlink:href=\"#m0a0d3e6f2e\" y=\"79.29\"/>\n      </g>\n     </g>\n     <g id=\"text_14\">\n      <!-- 200 -->\n      <g transform=\"translate(17.064 82.64475)scale(0.144 -0.144)\">\n       <use xlink:href=\"#STIXGeneral-Regular-50\"/>\n       <use x=\"49.999985\" xlink:href=\"#STIXGeneral-Regular-48\"/>\n       <use x=\"99.999969\" xlink:href=\"#STIXGeneral-Regular-48\"/>\n      </g>\n     </g>\n    </g>\n    <g id=\"ytick_8\">\n     <g id=\"line2d_30\">\n      <g>\n       <use style=\"stroke:#000000;stroke-width:0.5;\" x=\"42.664\" xlink:href=\"#m7e8eb6cc00\" y=\"46.485\"/>\n      </g>\n     </g>\n     <g id=\"line2d_31\">\n      <g>\n       <use style=\"stroke:#000000;stroke-width:0.5;\" x=\"396.904\" xlink:href=\"#m0a0d3e6f2e\" y=\"46.485\"/>\n      </g>\n     </g>\n     <g id=\"text_15\">\n      <!-- 250 -->\n      <g transform=\"translate(17.064 49.83975)scale(0.144 -0.144)\">\n       <use xlink:href=\"#STIXGeneral-Regular-50\"/>\n       <use x=\"49.999985\" xlink:href=\"#STIXGeneral-Regular-53\"/>\n       <use x=\"99.999969\" xlink:href=\"#STIXGeneral-Regular-48\"/>\n      </g>\n     </g>\n    </g>\n    <g id=\"ytick_9\">\n     <g id=\"line2d_32\">\n      <g>\n       <use style=\"stroke:#000000;stroke-width:0.5;\" x=\"42.664\" xlink:href=\"#m7e8eb6cc00\" y=\"13.68\"/>\n      </g>\n     </g>\n     <g id=\"line2d_33\">\n      <g>\n       <use style=\"stroke:#000000;stroke-width:0.5;\" x=\"396.904\" xlink:href=\"#m0a0d3e6f2e\" y=\"13.68\"/>\n      </g>\n     </g>\n     <g id=\"text_16\">\n      <!-- 300 -->\n      <defs>\n       <path d=\"M 6.09375 51 \nL 4.5 51.40625 \nQ 6.796875 58.90625 11.6875 63.25 \nQ 16.59375 67.59375 24.09375 67.59375 \nQ 31.09375 67.59375 35.390625 63.796875 \nQ 39.703125 60 39.703125 53.90625 \nQ 39.703125 45.703125 30.40625 40.09375 \nQ 35.90625 37.703125 38.703125 34.796875 \nQ 43.09375 29.90625 43.09375 21.90625 \nQ 43.09375 13.90625 38.5 7.90625 \nQ 35.09375 3.296875 28.75 0.9375 \nQ 22.40625 -1.40625 15.296875 -1.40625 \nQ 4.09375 -1.40625 4.09375 4.296875 \nQ 4.09375 5.90625 5.296875 6.90625 \nQ 6.5 7.90625 8.203125 7.90625 \nQ 10.703125 7.90625 14.296875 5.296875 \nQ 18.703125 2.203125 22.90625 2.203125 \nQ 28.40625 2.203125 32.15625 6.640625 \nQ 35.90625 11.09375 35.90625 17.5 \nQ 35.90625 29 25.5 32 \nQ 22.40625 33 15.296875 33 \nL 15.296875 34.40625 \nQ 20.90625 36.296875 23.703125 38 \nQ 31.796875 42.59375 31.796875 51.40625 \nQ 31.796875 56.40625 28.9375 59 \nQ 26.09375 61.59375 21 61.59375 \nQ 12 61.59375 6.09375 51 \nz\n\" id=\"STIXGeneral-Regular-51\"/>\n      </defs>\n      <g transform=\"translate(17.064 17.03475)scale(0.144 -0.144)\">\n       <use xlink:href=\"#STIXGeneral-Regular-51\"/>\n       <use x=\"49.999985\" xlink:href=\"#STIXGeneral-Regular-48\"/>\n       <use x=\"99.999969\" xlink:href=\"#STIXGeneral-Regular-48\"/>\n      </g>\n     </g>\n    </g>\n   </g>\n  </g>\n </g>\n <defs>\n  <clipPath id=\"pde14e24b8a\">\n   <rect height=\"262.44\" width=\"354.24\" x=\"42.664\" y=\"13.68\"/>\n  </clipPath>\n </defs>\n</svg>\n"
          },
          "metadata": {}
        }
      ]
    },
    {
      "cell_type": "code",
      "source": [
        "freqs = np.fft.rfftfreq( n = nFFT, d = 1.0 / fsample )  # FFT frequencies\n",
        "Amps = np.sqrt(2) * np.fft.rfft( fd_data )              # FFT complex amplitudes\n",
        "\n",
        "Spec_Af  = np.abs( Amps ) / (0.5*nFFT)                  # abs amplitudes \n",
        "Spec_Var = 0.5 * Spec_Af**2                             # Variance spectrum\n",
        "Spec_Sf  = Spec_Var / delta_f                           # Spectral density\n",
        "\n",
        "Spec_A_mean = np.sqrt( sum( Spec_Sf ) * delta_f )       # mean Amplitude\n",
        "\n",
        "mpl.plot( freqs, Amps )\n",
        "Spec_A_mean"
      ],
      "metadata": {
        "id": "KwkykcCYz3aS",
        "outputId": "6fb454c4-1ec4-4063-8262-5c29ea0266c7",
        "colab": {
          "base_uri": "https://localhost:8080/",
          "height": 473
        }
      },
      "execution_count": 41,
      "outputs": [
        {
          "output_type": "stream",
          "name": "stderr",
          "text": [
            "/usr/local/lib/python3.7/dist-packages/matplotlib/cbook/__init__.py:1317: ComplexWarning: Casting complex values to real discards the imaginary part\n",
            "  return np.asarray(x, float)\n"
          ]
        },
        {
          "output_type": "execute_result",
          "data": {
            "text/plain": [
              "0.9995120739522929"
            ]
          },
          "metadata": {},
          "execution_count": 41
        },
        {
          "output_type": "display_data",
          "data": {
            "text/plain": [
              "<Figure size 1680x1260 with 1 Axes>"
            ],
            "image/svg+xml": "<?xml version=\"1.0\" encoding=\"utf-8\" standalone=\"no\"?>\n<!DOCTYPE svg PUBLIC \"-//W3C//DTD SVG 1.1//EN\"\n  \"http://www.w3.org/Graphics/SVG/1.1/DTD/svg11.dtd\">\n<!-- Created with matplotlib (https://matplotlib.org/) -->\n<svg height=\"300.28pt\" version=\"1.1\" viewBox=\"0 0 407.704 300.28\" width=\"407.704pt\" xmlns=\"http://www.w3.org/2000/svg\" xmlns:xlink=\"http://www.w3.org/1999/xlink\">\n <defs>\n  <style type=\"text/css\">\n*{stroke-linecap:butt;stroke-linejoin:round;}\n  </style>\n </defs>\n <g id=\"figure_1\">\n  <g id=\"patch_1\">\n   <path d=\"M 0 300.28 \nL 407.704 300.28 \nL 407.704 0 \nL 0 0 \nz\n\" style=\"fill:#ffffff;\"/>\n  </g>\n  <g id=\"axes_1\">\n   <g id=\"patch_2\">\n    <path d=\"M 42.664 276.12 \nL 396.904 276.12 \nL 396.904 13.68 \nL 42.664 13.68 \nz\n\" style=\"fill:#ffffff;\"/>\n   </g>\n   <g id=\"line2d_1\">\n    <path clip-path=\"url(#p6f6c4bfec2)\" d=\"M 42.664 223.632 \nL 97.51758 223.522484 \nL 123.469811 223.280542 \nL 135.856103 222.971831 \nL 142.933984 222.597521 \nL 147.062748 222.198273 \nL 150.011866 221.723898 \nL 152.371159 221.102958 \nL 154.14063 220.345464 \nL 155.320277 219.565534 \nL 156.499923 218.35169 \nL 157.089747 217.450732 \nL 157.67957 216.202833 \nL 158.269394 214.359913 \nL 158.859217 211.363355 \nL 159.449041 205.636797 \nL 160.038864 190.329569 \nL 160.628688 18.426313 \nL 161.218511 273.879894 \nL 161.808334 246.203781 \nL 162.398158 238.264836 \nL 162.987981 234.499501 \nL 163.577805 232.30171 \nL 164.167628 230.861292 \nL 164.757452 229.844332 \nL 165.937098 228.503638 \nL 167.116745 227.659505 \nL 168.296392 227.079249 \nL 170.065863 226.484494 \nL 172.425156 225.972176 \nL 175.374273 225.56464 \nL 180.092861 225.171842 \nL 187.170742 224.847066 \nL 198.377387 224.585035 \nL 217.841561 224.378767 \nL 256.180084 224.228307 \nL 341.114659 224.155536 \nL 344.6536 224.155448 \nL 344.6536 224.155448 \n\" style=\"fill:none;stroke:#1f77b4;stroke-dasharray:6,0;stroke-dashoffset:0;stroke-width:1.5;\"/>\n   </g>\n   <g id=\"patch_3\">\n    <path d=\"M 42.664 276.12 \nL 42.664 13.68 \n\" style=\"fill:none;stroke:#000000;stroke-linecap:square;stroke-linejoin:miter;\"/>\n   </g>\n   <g id=\"patch_4\">\n    <path d=\"M 396.904 276.12 \nL 396.904 13.68 \n\" style=\"fill:none;stroke:#000000;stroke-linecap:square;stroke-linejoin:miter;\"/>\n   </g>\n   <g id=\"patch_5\">\n    <path d=\"M 42.664 276.12 \nL 396.904 276.12 \n\" style=\"fill:none;stroke:#000000;stroke-linecap:square;stroke-linejoin:miter;\"/>\n   </g>\n   <g id=\"patch_6\">\n    <path d=\"M 42.664 13.68 \nL 396.904 13.68 \n\" style=\"fill:none;stroke:#000000;stroke-linecap:square;stroke-linejoin:miter;\"/>\n   </g>\n   <g id=\"matplotlib.axis_1\">\n    <g id=\"xtick_1\">\n     <g id=\"line2d_2\">\n      <defs>\n       <path d=\"M 0 0 \nL 0 -4 \n\" id=\"mdab16cb94a\" style=\"stroke:#000000;stroke-width:0.5;\"/>\n      </defs>\n      <g>\n       <use style=\"stroke:#000000;stroke-width:0.5;\" x=\"42.664\" xlink:href=\"#mdab16cb94a\" y=\"276.12\"/>\n      </g>\n     </g>\n     <g id=\"line2d_3\">\n      <defs>\n       <path d=\"M 0 0 \nL 0 4 \n\" id=\"m0645bb6d06\" style=\"stroke:#000000;stroke-width:0.5;\"/>\n      </defs>\n      <g>\n       <use style=\"stroke:#000000;stroke-width:0.5;\" x=\"42.664\" xlink:href=\"#m0645bb6d06\" y=\"13.68\"/>\n      </g>\n     </g>\n     <g id=\"text_1\">\n      <!-- 0 -->\n      <defs>\n       <path d=\"M 47.59375 33 \nQ 47.59375 26.296875 46.296875 20.34375 \nQ 45 14.40625 42.453125 9.40625 \nQ 39.90625 4.40625 35.40625 1.5 \nQ 30.90625 -1.40625 25 -1.40625 \nQ 18.90625 -1.40625 14.296875 1.6875 \nQ 9.703125 4.796875 7.203125 10 \nQ 4.703125 15.203125 3.546875 21.09375 \nQ 2.40625 27 2.40625 33.59375 \nQ 2.40625 42.90625 4.703125 50.34375 \nQ 7 57.796875 12.34375 62.6875 \nQ 17.703125 67.59375 25.40625 67.59375 \nQ 35.203125 67.59375 41.390625 58 \nQ 47.59375 48.40625 47.59375 33 \nz\nM 38 32.5 \nQ 38 48.296875 34.640625 56.640625 \nQ 31.296875 65 24.796875 65 \nQ 18.59375 65 15.296875 56.59375 \nQ 12 48.203125 12 32.90625 \nQ 12 17.5 15.296875 9.34375 \nQ 18.59375 1.203125 25 1.203125 \nQ 31.296875 1.203125 34.640625 9.34375 \nQ 38 17.5 38 32.5 \nz\n\" id=\"STIXGeneral-Regular-48\"/>\n      </defs>\n      <g transform=\"translate(39.064 289.95475)scale(0.144 -0.144)\">\n       <use xlink:href=\"#STIXGeneral-Regular-48\"/>\n      </g>\n     </g>\n    </g>\n    <g id=\"xtick_2\">\n     <g id=\"line2d_4\">\n      <g>\n       <use style=\"stroke:#000000;stroke-width:0.5;\" x=\"101.704\" xlink:href=\"#mdab16cb94a\" y=\"276.12\"/>\n      </g>\n     </g>\n     <g id=\"line2d_5\">\n      <g>\n       <use style=\"stroke:#000000;stroke-width:0.5;\" x=\"101.704\" xlink:href=\"#m0645bb6d06\" y=\"13.68\"/>\n      </g>\n     </g>\n     <g id=\"text_2\">\n      <!-- 1 -->\n      <defs>\n       <path d=\"M 39.40625 0 \nL 11.796875 0 \nL 11.796875 1.5 \nQ 17.296875 1.796875 19.296875 3.546875 \nQ 21.296875 5.296875 21.296875 9.5 \nL 21.296875 54.40625 \nQ 21.296875 59.296875 18.296875 59.296875 \nQ 16.90625 59.296875 13.796875 58.09375 \nL 11.09375 57.09375 \nL 11.09375 58.5 \nL 29 67.59375 \nL 29.90625 67.296875 \nL 29.90625 7.59375 \nQ 29.90625 4.296875 31.90625 2.890625 \nQ 33.90625 1.5 39.40625 1.5 \nz\n\" id=\"STIXGeneral-Regular-49\"/>\n      </defs>\n      <g transform=\"translate(98.104 289.95475)scale(0.144 -0.144)\">\n       <use xlink:href=\"#STIXGeneral-Regular-49\"/>\n      </g>\n     </g>\n    </g>\n    <g id=\"xtick_3\">\n     <g id=\"line2d_6\">\n      <g>\n       <use style=\"stroke:#000000;stroke-width:0.5;\" x=\"160.744\" xlink:href=\"#mdab16cb94a\" y=\"276.12\"/>\n      </g>\n     </g>\n     <g id=\"line2d_7\">\n      <g>\n       <use style=\"stroke:#000000;stroke-width:0.5;\" x=\"160.744\" xlink:href=\"#m0645bb6d06\" y=\"13.68\"/>\n      </g>\n     </g>\n     <g id=\"text_3\">\n      <!-- 2 -->\n      <defs>\n       <path d=\"M 47.40625 13.703125 \nL 42 0 \nL 2.90625 0 \nL 2.90625 1.203125 \nL 20.703125 20.09375 \nQ 27.703125 27.40625 30.703125 33.5 \nQ 33.703125 39.59375 33.703125 46.09375 \nQ 33.703125 52.796875 30 56.5 \nQ 26.296875 60.203125 19.796875 60.203125 \nQ 14.40625 60.203125 11.25 57.390625 \nQ 8.09375 54.59375 5.09375 47.203125 \nL 3 47.703125 \nQ 4.703125 57 9.84375 62.296875 \nQ 15 67.59375 23.796875 67.59375 \nQ 32.09375 67.59375 37.1875 62.59375 \nQ 42.296875 57.59375 42.296875 50 \nQ 42.296875 38.703125 29.5 25.203125 \nL 13 7.59375 \nL 36.40625 7.59375 \nQ 39.703125 7.59375 41.640625 8.890625 \nQ 43.59375 10.203125 46 14.296875 \nz\n\" id=\"STIXGeneral-Regular-50\"/>\n      </defs>\n      <g transform=\"translate(157.144 289.95475)scale(0.144 -0.144)\">\n       <use xlink:href=\"#STIXGeneral-Regular-50\"/>\n      </g>\n     </g>\n    </g>\n    <g id=\"xtick_4\">\n     <g id=\"line2d_8\">\n      <g>\n       <use style=\"stroke:#000000;stroke-width:0.5;\" x=\"219.784\" xlink:href=\"#mdab16cb94a\" y=\"276.12\"/>\n      </g>\n     </g>\n     <g id=\"line2d_9\">\n      <g>\n       <use style=\"stroke:#000000;stroke-width:0.5;\" x=\"219.784\" xlink:href=\"#m0645bb6d06\" y=\"13.68\"/>\n      </g>\n     </g>\n     <g id=\"text_4\">\n      <!-- 3 -->\n      <defs>\n       <path d=\"M 6.09375 51 \nL 4.5 51.40625 \nQ 6.796875 58.90625 11.6875 63.25 \nQ 16.59375 67.59375 24.09375 67.59375 \nQ 31.09375 67.59375 35.390625 63.796875 \nQ 39.703125 60 39.703125 53.90625 \nQ 39.703125 45.703125 30.40625 40.09375 \nQ 35.90625 37.703125 38.703125 34.796875 \nQ 43.09375 29.90625 43.09375 21.90625 \nQ 43.09375 13.90625 38.5 7.90625 \nQ 35.09375 3.296875 28.75 0.9375 \nQ 22.40625 -1.40625 15.296875 -1.40625 \nQ 4.09375 -1.40625 4.09375 4.296875 \nQ 4.09375 5.90625 5.296875 6.90625 \nQ 6.5 7.90625 8.203125 7.90625 \nQ 10.703125 7.90625 14.296875 5.296875 \nQ 18.703125 2.203125 22.90625 2.203125 \nQ 28.40625 2.203125 32.15625 6.640625 \nQ 35.90625 11.09375 35.90625 17.5 \nQ 35.90625 29 25.5 32 \nQ 22.40625 33 15.296875 33 \nL 15.296875 34.40625 \nQ 20.90625 36.296875 23.703125 38 \nQ 31.796875 42.59375 31.796875 51.40625 \nQ 31.796875 56.40625 28.9375 59 \nQ 26.09375 61.59375 21 61.59375 \nQ 12 61.59375 6.09375 51 \nz\n\" id=\"STIXGeneral-Regular-51\"/>\n      </defs>\n      <g transform=\"translate(216.184 289.95475)scale(0.144 -0.144)\">\n       <use xlink:href=\"#STIXGeneral-Regular-51\"/>\n      </g>\n     </g>\n    </g>\n    <g id=\"xtick_5\">\n     <g id=\"line2d_10\">\n      <g>\n       <use style=\"stroke:#000000;stroke-width:0.5;\" x=\"278.824\" xlink:href=\"#mdab16cb94a\" y=\"276.12\"/>\n      </g>\n     </g>\n     <g id=\"line2d_11\">\n      <g>\n       <use style=\"stroke:#000000;stroke-width:0.5;\" x=\"278.824\" xlink:href=\"#m0645bb6d06\" y=\"13.68\"/>\n      </g>\n     </g>\n     <g id=\"text_5\">\n      <!-- 4 -->\n      <defs>\n       <path d=\"M 47.296875 16.703125 \nL 37 16.703125 \nL 37 0 \nL 29.203125 0 \nL 29.203125 16.703125 \nL 1.203125 16.703125 \nL 1.203125 23.09375 \nL 32.59375 67.59375 \nL 37 67.59375 \nL 37 23.09375 \nL 47.296875 23.09375 \nz\nM 29.203125 23.09375 \nL 29.203125 57.40625 \nL 5.203125 23.09375 \nz\n\" id=\"STIXGeneral-Regular-52\"/>\n      </defs>\n      <g transform=\"translate(275.224 289.95475)scale(0.144 -0.144)\">\n       <use xlink:href=\"#STIXGeneral-Regular-52\"/>\n      </g>\n     </g>\n    </g>\n    <g id=\"xtick_6\">\n     <g id=\"line2d_12\">\n      <g>\n       <use style=\"stroke:#000000;stroke-width:0.5;\" x=\"337.864\" xlink:href=\"#mdab16cb94a\" y=\"276.12\"/>\n      </g>\n     </g>\n     <g id=\"line2d_13\">\n      <g>\n       <use style=\"stroke:#000000;stroke-width:0.5;\" x=\"337.864\" xlink:href=\"#m0645bb6d06\" y=\"13.68\"/>\n      </g>\n     </g>\n     <g id=\"text_6\">\n      <!-- 5 -->\n      <defs>\n       <path d=\"M 43.796875 68.09375 \nL 40.203125 59.59375 \nQ 39.59375 58.296875 37.5 58.296875 \nL 18.09375 58.296875 \nL 14.09375 49.796875 \nQ 25.09375 47.703125 30 45.25 \nQ 34.90625 42.796875 39.09375 37 \nQ 42.59375 32.203125 42.59375 24.296875 \nQ 42.59375 17.09375 40.25 12.1875 \nQ 37.90625 7.296875 32.796875 3.5 \nQ 26 -1.40625 15.796875 -1.40625 \nQ 10.09375 -1.40625 6.59375 0.296875 \nQ 3.09375 2 3.09375 4.796875 \nQ 3.09375 8.59375 7.59375 8.59375 \nQ 11.203125 8.59375 15 5.5 \nQ 18.90625 2.296875 22.09375 2.296875 \nQ 27.296875 2.296875 31.4375 7.5 \nQ 35.59375 12.703125 35.59375 19.203125 \nQ 35.59375 28.796875 28.90625 34.203125 \nQ 20.203125 41.203125 7.59375 41.203125 \nQ 6.40625 41.203125 6.40625 42 \nL 6.5 42.5 \nL 17.40625 66.203125 \nL 38.09375 66.203125 \nQ 39.796875 66.203125 40.75 66.703125 \nQ 41.703125 67.203125 42.90625 68.796875 \nz\n\" id=\"STIXGeneral-Regular-53\"/>\n      </defs>\n      <g transform=\"translate(334.264 289.95475)scale(0.144 -0.144)\">\n       <use xlink:href=\"#STIXGeneral-Regular-53\"/>\n      </g>\n     </g>\n    </g>\n    <g id=\"xtick_7\">\n     <g id=\"line2d_14\">\n      <g>\n       <use style=\"stroke:#000000;stroke-width:0.5;\" x=\"396.904\" xlink:href=\"#mdab16cb94a\" y=\"276.12\"/>\n      </g>\n     </g>\n     <g id=\"line2d_15\">\n      <g>\n       <use style=\"stroke:#000000;stroke-width:0.5;\" x=\"396.904\" xlink:href=\"#m0645bb6d06\" y=\"13.68\"/>\n      </g>\n     </g>\n     <g id=\"text_7\">\n      <!-- 6 -->\n      <defs>\n       <path d=\"M 44.59375 68.40625 \nL 44.796875 66.796875 \nQ 33 64.90625 25.09375 57.25 \nQ 17.203125 49.59375 15.203125 38.296875 \nQ 21 42.796875 27.90625 42.796875 \nQ 36.703125 42.796875 41.75 37.1875 \nQ 46.796875 31.59375 46.796875 21.90625 \nQ 46.796875 12.09375 41.703125 5.90625 \nQ 35.796875 -1.40625 25.796875 -1.40625 \nQ 13.59375 -1.40625 8.09375 8.703125 \nQ 3.40625 17.296875 3.40625 27.90625 \nQ 3.40625 44.296875 14.296875 55.5 \nQ 20.5 61.90625 27.046875 64.546875 \nQ 33.59375 67.203125 44.59375 68.40625 \nz\nM 37.796875 18.796875 \nQ 37.796875 38.203125 24.296875 38.203125 \nQ 19.296875 38.203125 16 35.546875 \nQ 12.703125 32.90625 12.703125 26.59375 \nQ 12.703125 14.90625 16.34375 8.15625 \nQ 20 1.40625 26.90625 1.40625 \nQ 32.203125 1.40625 35 6.15625 \nQ 37.796875 10.90625 37.796875 18.796875 \nz\n\" id=\"STIXGeneral-Regular-54\"/>\n      </defs>\n      <g transform=\"translate(393.304 289.95475)scale(0.144 -0.144)\">\n       <use xlink:href=\"#STIXGeneral-Regular-54\"/>\n      </g>\n     </g>\n    </g>\n   </g>\n   <g id=\"matplotlib.axis_2\">\n    <g id=\"ytick_1\">\n     <g id=\"line2d_16\">\n      <defs>\n       <path d=\"M 0 0 \nL 4 0 \n\" id=\"mc6a909966e\" style=\"stroke:#000000;stroke-width:0.5;\"/>\n      </defs>\n      <g>\n       <use style=\"stroke:#000000;stroke-width:0.5;\" x=\"42.664\" xlink:href=\"#mc6a909966e\" y=\"276.12\"/>\n      </g>\n     </g>\n     <g id=\"line2d_17\">\n      <defs>\n       <path d=\"M 0 0 \nL -4 0 \n\" id=\"ma220cdc3b7\" style=\"stroke:#000000;stroke-width:0.5;\"/>\n      </defs>\n      <g>\n       <use style=\"stroke:#000000;stroke-width:0.5;\" x=\"396.904\" xlink:href=\"#ma220cdc3b7\" y=\"276.12\"/>\n      </g>\n     </g>\n     <g id=\"text_8\">\n      <!-- −100 -->\n      <defs>\n       <path d=\"M 62.09375 22 \nL 6.40625 22 \nL 6.40625 28.59375 \nL 62.09375 28.59375 \nz\n\" id=\"STIXGeneral-Regular-8722\"/>\n      </defs>\n      <g transform=\"translate(7.2 279.47475)scale(0.144 -0.144)\">\n       <use xlink:href=\"#STIXGeneral-Regular-8722\"/>\n       <use x=\"68.499985\" xlink:href=\"#STIXGeneral-Regular-49\"/>\n       <use x=\"118.499969\" xlink:href=\"#STIXGeneral-Regular-48\"/>\n       <use x=\"168.499954\" xlink:href=\"#STIXGeneral-Regular-48\"/>\n      </g>\n     </g>\n    </g>\n    <g id=\"ytick_2\">\n     <g id=\"line2d_18\">\n      <g>\n       <use style=\"stroke:#000000;stroke-width:0.5;\" x=\"42.664\" xlink:href=\"#mc6a909966e\" y=\"223.632\"/>\n      </g>\n     </g>\n     <g id=\"line2d_19\">\n      <g>\n       <use style=\"stroke:#000000;stroke-width:0.5;\" x=\"396.904\" xlink:href=\"#ma220cdc3b7\" y=\"223.632\"/>\n      </g>\n     </g>\n     <g id=\"text_9\">\n      <!-- 0 -->\n      <g transform=\"translate(31.464 226.98675)scale(0.144 -0.144)\">\n       <use xlink:href=\"#STIXGeneral-Regular-48\"/>\n      </g>\n     </g>\n    </g>\n    <g id=\"ytick_3\">\n     <g id=\"line2d_20\">\n      <g>\n       <use style=\"stroke:#000000;stroke-width:0.5;\" x=\"42.664\" xlink:href=\"#mc6a909966e\" y=\"171.144\"/>\n      </g>\n     </g>\n     <g id=\"line2d_21\">\n      <g>\n       <use style=\"stroke:#000000;stroke-width:0.5;\" x=\"396.904\" xlink:href=\"#ma220cdc3b7\" y=\"171.144\"/>\n      </g>\n     </g>\n     <g id=\"text_10\">\n      <!-- 100 -->\n      <g transform=\"translate(17.064 174.49875)scale(0.144 -0.144)\">\n       <use xlink:href=\"#STIXGeneral-Regular-49\"/>\n       <use x=\"49.999985\" xlink:href=\"#STIXGeneral-Regular-48\"/>\n       <use x=\"99.999969\" xlink:href=\"#STIXGeneral-Regular-48\"/>\n      </g>\n     </g>\n    </g>\n    <g id=\"ytick_4\">\n     <g id=\"line2d_22\">\n      <g>\n       <use style=\"stroke:#000000;stroke-width:0.5;\" x=\"42.664\" xlink:href=\"#mc6a909966e\" y=\"118.656\"/>\n      </g>\n     </g>\n     <g id=\"line2d_23\">\n      <g>\n       <use style=\"stroke:#000000;stroke-width:0.5;\" x=\"396.904\" xlink:href=\"#ma220cdc3b7\" y=\"118.656\"/>\n      </g>\n     </g>\n     <g id=\"text_11\">\n      <!-- 200 -->\n      <g transform=\"translate(17.064 122.01075)scale(0.144 -0.144)\">\n       <use xlink:href=\"#STIXGeneral-Regular-50\"/>\n       <use x=\"49.999985\" xlink:href=\"#STIXGeneral-Regular-48\"/>\n       <use x=\"99.999969\" xlink:href=\"#STIXGeneral-Regular-48\"/>\n      </g>\n     </g>\n    </g>\n    <g id=\"ytick_5\">\n     <g id=\"line2d_24\">\n      <g>\n       <use style=\"stroke:#000000;stroke-width:0.5;\" x=\"42.664\" xlink:href=\"#mc6a909966e\" y=\"66.168\"/>\n      </g>\n     </g>\n     <g id=\"line2d_25\">\n      <g>\n       <use style=\"stroke:#000000;stroke-width:0.5;\" x=\"396.904\" xlink:href=\"#ma220cdc3b7\" y=\"66.168\"/>\n      </g>\n     </g>\n     <g id=\"text_12\">\n      <!-- 300 -->\n      <g transform=\"translate(17.064 69.52275)scale(0.144 -0.144)\">\n       <use xlink:href=\"#STIXGeneral-Regular-51\"/>\n       <use x=\"49.999985\" xlink:href=\"#STIXGeneral-Regular-48\"/>\n       <use x=\"99.999969\" xlink:href=\"#STIXGeneral-Regular-48\"/>\n      </g>\n     </g>\n    </g>\n    <g id=\"ytick_6\">\n     <g id=\"line2d_26\">\n      <g>\n       <use style=\"stroke:#000000;stroke-width:0.5;\" x=\"42.664\" xlink:href=\"#mc6a909966e\" y=\"13.68\"/>\n      </g>\n     </g>\n     <g id=\"line2d_27\">\n      <g>\n       <use style=\"stroke:#000000;stroke-width:0.5;\" x=\"396.904\" xlink:href=\"#ma220cdc3b7\" y=\"13.68\"/>\n      </g>\n     </g>\n     <g id=\"text_13\">\n      <!-- 400 -->\n      <g transform=\"translate(17.064 17.03475)scale(0.144 -0.144)\">\n       <use xlink:href=\"#STIXGeneral-Regular-52\"/>\n       <use x=\"49.999985\" xlink:href=\"#STIXGeneral-Regular-48\"/>\n       <use x=\"99.999969\" xlink:href=\"#STIXGeneral-Regular-48\"/>\n      </g>\n     </g>\n    </g>\n   </g>\n  </g>\n </g>\n <defs>\n  <clipPath id=\"p6f6c4bfec2\">\n   <rect height=\"262.44\" width=\"354.24\" x=\"42.664\" y=\"13.68\"/>\n  </clipPath>\n </defs>\n</svg>\n"
          },
          "metadata": {}
        }
      ]
    },
    {
      "cell_type": "code",
      "source": [
        ""
      ],
      "metadata": {
        "id": "9xnNtXH44BUa"
      },
      "execution_count": null,
      "outputs": []
    }
  ]
}